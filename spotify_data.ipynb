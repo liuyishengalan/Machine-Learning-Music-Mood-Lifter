{
  "nbformat": 4,
  "nbformat_minor": 0,
  "metadata": {
    "colab": {
      "name": "FINAL PROJECT 291",
      "provenance": [],
      "collapsed_sections": []
    },
    "kernelspec": {
      "name": "python3",
      "display_name": "Python 3"
    },
    "language_info": {
      "name": "python"
    }
  },
  "cells": [
    {
      "cell_type": "code",
      "metadata": {
        "colab": {
          "base_uri": "https://localhost:8080/"
        },
        "id": "RBobrGwkOH34",
        "outputId": "29280516-d957-4fb0-c181-4dfb62237681"
      },
      "source": [
        "pip install spotipy "
      ],
      "execution_count": 1,
      "outputs": [
        {
          "output_type": "stream",
          "text": [
            "Collecting spotipy\n",
            "  Downloading https://files.pythonhosted.org/packages/fb/69/21f1ccc881438bdfa1056ea131b6ac2b1cfbe656cf3676b6167d3cbc4d69/spotipy-2.17.1-py3-none-any.whl\n",
            "Requirement already satisfied: six>=1.15.0 in /usr/local/lib/python3.7/dist-packages (from spotipy) (1.15.0)\n",
            "Collecting urllib3>=1.26.0\n",
            "\u001b[?25l  Downloading https://files.pythonhosted.org/packages/09/c6/d3e3abe5b4f4f16cf0dfc9240ab7ce10c2baa0e268989a4e3ec19e90c84e/urllib3-1.26.4-py2.py3-none-any.whl (153kB)\n",
            "\u001b[K     |████████████████████████████████| 153kB 6.7MB/s \n",
            "\u001b[?25hCollecting requests>=2.25.0\n",
            "\u001b[?25l  Downloading https://files.pythonhosted.org/packages/29/c1/24814557f1d22c56d50280771a17307e6bf87b70727d975fd6b2ce6b014a/requests-2.25.1-py2.py3-none-any.whl (61kB)\n",
            "\u001b[K     |████████████████████████████████| 61kB 6.6MB/s \n",
            "\u001b[?25hRequirement already satisfied: idna<3,>=2.5 in /usr/local/lib/python3.7/dist-packages (from requests>=2.25.0->spotipy) (2.10)\n",
            "Requirement already satisfied: certifi>=2017.4.17 in /usr/local/lib/python3.7/dist-packages (from requests>=2.25.0->spotipy) (2020.12.5)\n",
            "Requirement already satisfied: chardet<5,>=3.0.2 in /usr/local/lib/python3.7/dist-packages (from requests>=2.25.0->spotipy) (3.0.4)\n",
            "\u001b[31mERROR: google-colab 1.0.0 has requirement requests~=2.23.0, but you'll have requests 2.25.1 which is incompatible.\u001b[0m\n",
            "\u001b[31mERROR: datascience 0.10.6 has requirement folium==0.2.1, but you'll have folium 0.8.3 which is incompatible.\u001b[0m\n",
            "Installing collected packages: urllib3, requests, spotipy\n",
            "  Found existing installation: urllib3 1.24.3\n",
            "    Uninstalling urllib3-1.24.3:\n",
            "      Successfully uninstalled urllib3-1.24.3\n",
            "  Found existing installation: requests 2.23.0\n",
            "    Uninstalling requests-2.23.0:\n",
            "      Successfully uninstalled requests-2.23.0\n",
            "Successfully installed requests-2.25.1 spotipy-2.17.1 urllib3-1.26.4\n"
          ],
          "name": "stdout"
        }
      ]
    },
    {
      "cell_type": "code",
      "metadata": {
        "id": "HWVaNcdds96B"
      },
      "source": [
        "import spotipy\n",
        "from spotipy.oauth2 import SpotifyClientCredentials\n",
        "\n",
        "cid =\"a006ea8174bc4689b4eb39c47b5449a1\" \n",
        "secret = \"1cca3d1fff6145fdaee72ba822e8b586\"\n",
        "\n",
        "client_credentials_manager = SpotifyClientCredentials(client_id=cid, client_secret=secret)\n",
        "sp = spotipy.Spotify(client_credentials_manager=client_credentials_manager)"
      ],
      "execution_count": 2,
      "outputs": []
    },
    {
      "cell_type": "code",
      "metadata": {
        "id": "eHNeHlar6J9p"
      },
      "source": [
        "import timeit\n",
        "import pandas as pd\n",
        "import torch"
      ],
      "execution_count": 56,
      "outputs": []
    },
    {
      "cell_type": "code",
      "metadata": {
        "id": "FV7U6BxZ6Nn0"
      },
      "source": [
        "def getTracks(query, number):\n",
        "  start = timeit.default_timer()\n",
        "\n",
        "  # create empty lists where the results are going to be stored\n",
        "  artist_name = []\n",
        "  track_name = []\n",
        "  popularity = []\n",
        "  track_id = []\n",
        "\n",
        "  for i in range(0,number,10):\n",
        "      track_results = sp.search(q=query, type='track', limit=10,offset=i)\n",
        "      for i, t in enumerate(track_results['tracks']['items']):\n",
        "          artist_name.append(t['artists'][0]['name'])\n",
        "          track_name.append(t['name'])\n",
        "          track_id.append(t['id'])\n",
        "          popularity.append(t['popularity'])\n",
        "        \n",
        "\n",
        "  stop = timeit.default_timer()\n",
        "  print ('Time to run this code (in seconds):', stop - start)\n",
        "  df_tracks = pd.DataFrame({'artist_name':artist_name,'track_name':track_name,'track_id':track_id,'popularity':popularity})\n",
        "  return df_tracks"
      ],
      "execution_count": 4,
      "outputs": []
    },
    {
      "cell_type": "code",
      "metadata": {
        "colab": {
          "base_uri": "https://localhost:8080/"
        },
        "id": "Hly5TgIs7Y4A",
        "outputId": "3e25b5c5-d317-46ba-9717-168bd1edb8e9"
      },
      "source": [
        "df_calm_tracks = getTracks('label:calm',200)"
      ],
      "execution_count": 5,
      "outputs": [
        {
          "output_type": "stream",
          "text": [
            "Time to run this code (in seconds): 2.4338528389999965\n"
          ],
          "name": "stdout"
        }
      ]
    },
    {
      "cell_type": "code",
      "metadata": {
        "colab": {
          "base_uri": "https://localhost:8080/",
          "height": 212
        },
        "id": "c6sOFLky7mrI",
        "outputId": "0ddfdff2-f722-4100-d8cd-cdd8b09b9074"
      },
      "source": [
        "print(df_calm_tracks.shape)\n",
        "df_calm_tracks.head()"
      ],
      "execution_count": 6,
      "outputs": [
        {
          "output_type": "stream",
          "text": [
            "(200, 4)\n"
          ],
          "name": "stdout"
        },
        {
          "output_type": "execute_result",
          "data": {
            "text/html": [
              "<div>\n",
              "<style scoped>\n",
              "    .dataframe tbody tr th:only-of-type {\n",
              "        vertical-align: middle;\n",
              "    }\n",
              "\n",
              "    .dataframe tbody tr th {\n",
              "        vertical-align: top;\n",
              "    }\n",
              "\n",
              "    .dataframe thead th {\n",
              "        text-align: right;\n",
              "    }\n",
              "</style>\n",
              "<table border=\"1\" class=\"dataframe\">\n",
              "  <thead>\n",
              "    <tr style=\"text-align: right;\">\n",
              "      <th></th>\n",
              "      <th>artist_name</th>\n",
              "      <th>track_name</th>\n",
              "      <th>track_id</th>\n",
              "      <th>popularity</th>\n",
              "    </tr>\n",
              "  </thead>\n",
              "  <tbody>\n",
              "    <tr>\n",
              "      <th>0</th>\n",
              "      <td>The Calm Factory</td>\n",
              "      <td>Forest Thunderstorm</td>\n",
              "      <td>3NTAcEKTrL3yHnEzBklXcN</td>\n",
              "      <td>63</td>\n",
              "    </tr>\n",
              "    <tr>\n",
              "      <th>1</th>\n",
              "      <td>The Calm Factory</td>\n",
              "      <td>Calm Before The Storm</td>\n",
              "      <td>69mYHeNk3DSNIRBUCLCFZI</td>\n",
              "      <td>60</td>\n",
              "    </tr>\n",
              "    <tr>\n",
              "      <th>2</th>\n",
              "      <td>The Calm Factory</td>\n",
              "      <td>Rain For Relaxation</td>\n",
              "      <td>5WAqDgplhuoFBG4IUdEP4J</td>\n",
              "      <td>59</td>\n",
              "    </tr>\n",
              "    <tr>\n",
              "      <th>3</th>\n",
              "      <td>The Calm Factory</td>\n",
              "      <td>Chuva soa para dormir</td>\n",
              "      <td>5sMzZKg6SLtG5lcudEpDLC</td>\n",
              "      <td>58</td>\n",
              "    </tr>\n",
              "    <tr>\n",
              "      <th>4</th>\n",
              "      <td>Sounds Of Calm</td>\n",
              "      <td>Small River On Rocks</td>\n",
              "      <td>1iwAjsOxILo4p6uOZLD0Fa</td>\n",
              "      <td>47</td>\n",
              "    </tr>\n",
              "  </tbody>\n",
              "</table>\n",
              "</div>"
            ],
            "text/plain": [
              "        artist_name             track_name                track_id  popularity\n",
              "0  The Calm Factory    Forest Thunderstorm  3NTAcEKTrL3yHnEzBklXcN          63\n",
              "1  The Calm Factory  Calm Before The Storm  69mYHeNk3DSNIRBUCLCFZI          60\n",
              "2  The Calm Factory    Rain For Relaxation  5WAqDgplhuoFBG4IUdEP4J          59\n",
              "3  The Calm Factory  Chuva soa para dormir  5sMzZKg6SLtG5lcudEpDLC          58\n",
              "4    Sounds Of Calm   Small River On Rocks  1iwAjsOxILo4p6uOZLD0Fa          47"
            ]
          },
          "metadata": {
            "tags": []
          },
          "execution_count": 6
        }
      ]
    },
    {
      "cell_type": "code",
      "metadata": {
        "colab": {
          "base_uri": "https://localhost:8080/"
        },
        "id": "w73dpk1u7rbS",
        "outputId": "84a2a07f-738e-4724-f422-09c29e9ab0cf"
      },
      "source": [
        "df_energetic_tracks = getTracks('label:energetic',200)"
      ],
      "execution_count": 7,
      "outputs": [
        {
          "output_type": "stream",
          "text": [
            "Time to run this code (in seconds): 2.363126795999989\n"
          ],
          "name": "stdout"
        }
      ]
    },
    {
      "cell_type": "code",
      "metadata": {
        "colab": {
          "base_uri": "https://localhost:8080/",
          "height": 212
        },
        "id": "GVmT2rxG72dv",
        "outputId": "69f41634-ab4c-4171-a4c3-a8164085f30f"
      },
      "source": [
        "print(df_energetic_tracks.shape)\n",
        "df_energetic_tracks.head()"
      ],
      "execution_count": 8,
      "outputs": [
        {
          "output_type": "stream",
          "text": [
            "(200, 4)\n"
          ],
          "name": "stdout"
        },
        {
          "output_type": "execute_result",
          "data": {
            "text/html": [
              "<div>\n",
              "<style scoped>\n",
              "    .dataframe tbody tr th:only-of-type {\n",
              "        vertical-align: middle;\n",
              "    }\n",
              "\n",
              "    .dataframe tbody tr th {\n",
              "        vertical-align: top;\n",
              "    }\n",
              "\n",
              "    .dataframe thead th {\n",
              "        text-align: right;\n",
              "    }\n",
              "</style>\n",
              "<table border=\"1\" class=\"dataframe\">\n",
              "  <thead>\n",
              "    <tr style=\"text-align: right;\">\n",
              "      <th></th>\n",
              "      <th>artist_name</th>\n",
              "      <th>track_name</th>\n",
              "      <th>track_id</th>\n",
              "      <th>popularity</th>\n",
              "    </tr>\n",
              "  </thead>\n",
              "  <tbody>\n",
              "    <tr>\n",
              "      <th>0</th>\n",
              "      <td>Lil Key</td>\n",
              "      <td>Crazy (feat. J.I. &amp; D Low)</td>\n",
              "      <td>5XgfOmcWvkXTDmOfO81NRP</td>\n",
              "      <td>14</td>\n",
              "    </tr>\n",
              "    <tr>\n",
              "      <th>1</th>\n",
              "      <td>Energetic Alchemy</td>\n",
              "      <td>The Lovers</td>\n",
              "      <td>6cVj2hWi6hDovzI6fjWH3N</td>\n",
              "      <td>9</td>\n",
              "    </tr>\n",
              "    <tr>\n",
              "      <th>2</th>\n",
              "      <td>Sharon Hart</td>\n",
              "      <td>Near Reject Pick</td>\n",
              "      <td>3d0t8krXtXnNsCPXruNWqR</td>\n",
              "      <td>9</td>\n",
              "    </tr>\n",
              "    <tr>\n",
              "      <th>3</th>\n",
              "      <td>Kasperli</td>\n",
              "      <td>De Seegeischt im Führwehrweiher - Teil 10</td>\n",
              "      <td>1dkMVDHOBz2r171zApCVdr</td>\n",
              "      <td>10</td>\n",
              "    </tr>\n",
              "    <tr>\n",
              "      <th>4</th>\n",
              "      <td>Kasperli</td>\n",
              "      <td>S verzauberete Flugzüüg - Teil 3</td>\n",
              "      <td>2i1yUnMB9c1pXjtf7mtRJS</td>\n",
              "      <td>10</td>\n",
              "    </tr>\n",
              "  </tbody>\n",
              "</table>\n",
              "</div>"
            ],
            "text/plain": [
              "         artist_name  ... popularity\n",
              "0            Lil Key  ...         14\n",
              "1  Energetic Alchemy  ...          9\n",
              "2        Sharon Hart  ...          9\n",
              "3           Kasperli  ...         10\n",
              "4           Kasperli  ...         10\n",
              "\n",
              "[5 rows x 4 columns]"
            ]
          },
          "metadata": {
            "tags": []
          },
          "execution_count": 8
        }
      ]
    },
    {
      "cell_type": "code",
      "metadata": {
        "colab": {
          "base_uri": "https://localhost:8080/"
        },
        "id": "jOaa-2NQ7-Ls",
        "outputId": "56866d1a-a753-47a1-a2a6-9125f30dc9d9"
      },
      "source": [
        "df_happy_tracks = getTracks('label:happy',200)"
      ],
      "execution_count": 9,
      "outputs": [
        {
          "output_type": "stream",
          "text": [
            "Time to run this code (in seconds): 1.7914993679999895\n"
          ],
          "name": "stdout"
        }
      ]
    },
    {
      "cell_type": "code",
      "metadata": {
        "colab": {
          "base_uri": "https://localhost:8080/",
          "height": 212
        },
        "id": "RqKP9gUI8HxQ",
        "outputId": "4f57eb5f-de50-4999-a684-7e491936332b"
      },
      "source": [
        "print(df_happy_tracks.shape)\n",
        "df_happy_tracks.head()"
      ],
      "execution_count": 10,
      "outputs": [
        {
          "output_type": "stream",
          "text": [
            "(200, 4)\n"
          ],
          "name": "stdout"
        },
        {
          "output_type": "execute_result",
          "data": {
            "text/html": [
              "<div>\n",
              "<style scoped>\n",
              "    .dataframe tbody tr th:only-of-type {\n",
              "        vertical-align: middle;\n",
              "    }\n",
              "\n",
              "    .dataframe tbody tr th {\n",
              "        vertical-align: top;\n",
              "    }\n",
              "\n",
              "    .dataframe thead th {\n",
              "        text-align: right;\n",
              "    }\n",
              "</style>\n",
              "<table border=\"1\" class=\"dataframe\">\n",
              "  <thead>\n",
              "    <tr style=\"text-align: right;\">\n",
              "      <th></th>\n",
              "      <th>artist_name</th>\n",
              "      <th>track_name</th>\n",
              "      <th>track_id</th>\n",
              "      <th>popularity</th>\n",
              "    </tr>\n",
              "  </thead>\n",
              "  <tbody>\n",
              "    <tr>\n",
              "      <th>0</th>\n",
              "      <td>L.B. One</td>\n",
              "      <td>My Mother Told Me - Vikings Anthem</td>\n",
              "      <td>6pAzrdqZKo4AnRWDKStG7R</td>\n",
              "      <td>65</td>\n",
              "    </tr>\n",
              "    <tr>\n",
              "      <th>1</th>\n",
              "      <td>The Happy Fits</td>\n",
              "      <td>Too Late</td>\n",
              "      <td>3LbO439QNr3IX7Ho39Fq8X</td>\n",
              "      <td>59</td>\n",
              "    </tr>\n",
              "    <tr>\n",
              "      <th>2</th>\n",
              "      <td>Lil Happy Lil Sad</td>\n",
              "      <td>Let Me Die</td>\n",
              "      <td>46T7puWlH8ptC6lx7bQ3TY</td>\n",
              "      <td>66</td>\n",
              "    </tr>\n",
              "    <tr>\n",
              "      <th>3</th>\n",
              "      <td>The Happy Fits</td>\n",
              "      <td>Dirty Imbecile</td>\n",
              "      <td>5erGUceK8ieHWtTXdnGP65</td>\n",
              "      <td>57</td>\n",
              "    </tr>\n",
              "    <tr>\n",
              "      <th>4</th>\n",
              "      <td>Sad Frosty</td>\n",
              "      <td>Beavis &amp; Butt-head</td>\n",
              "      <td>0Y9kRbsQKC9zSmfzxPgYiT</td>\n",
              "      <td>56</td>\n",
              "    </tr>\n",
              "  </tbody>\n",
              "</table>\n",
              "</div>"
            ],
            "text/plain": [
              "         artist_name  ... popularity\n",
              "0           L.B. One  ...         65\n",
              "1     The Happy Fits  ...         59\n",
              "2  Lil Happy Lil Sad  ...         66\n",
              "3     The Happy Fits  ...         57\n",
              "4         Sad Frosty  ...         56\n",
              "\n",
              "[5 rows x 4 columns]"
            ]
          },
          "metadata": {
            "tags": []
          },
          "execution_count": 10
        }
      ]
    },
    {
      "cell_type": "code",
      "metadata": {
        "colab": {
          "base_uri": "https://localhost:8080/"
        },
        "id": "BZRvX-yd8Pr-",
        "outputId": "08333cb7-48d8-4d16-b2e8-121788161b2d"
      },
      "source": [
        "df_sad_tracks = getTracks('label:sad',200)"
      ],
      "execution_count": 11,
      "outputs": [
        {
          "output_type": "stream",
          "text": [
            "Time to run this code (in seconds): 1.6033500069999889\n"
          ],
          "name": "stdout"
        }
      ]
    },
    {
      "cell_type": "code",
      "metadata": {
        "colab": {
          "base_uri": "https://localhost:8080/",
          "height": 212
        },
        "id": "-FTax_9O8Vb7",
        "outputId": "b9f29953-894e-464c-b84c-e5eb55be8e55"
      },
      "source": [
        "print(df_sad_tracks.shape)\n",
        "df_sad_tracks.head()"
      ],
      "execution_count": 12,
      "outputs": [
        {
          "output_type": "stream",
          "text": [
            "(200, 4)\n"
          ],
          "name": "stdout"
        },
        {
          "output_type": "execute_result",
          "data": {
            "text/html": [
              "<div>\n",
              "<style scoped>\n",
              "    .dataframe tbody tr th:only-of-type {\n",
              "        vertical-align: middle;\n",
              "    }\n",
              "\n",
              "    .dataframe tbody tr th {\n",
              "        vertical-align: top;\n",
              "    }\n",
              "\n",
              "    .dataframe thead th {\n",
              "        text-align: right;\n",
              "    }\n",
              "</style>\n",
              "<table border=\"1\" class=\"dataframe\">\n",
              "  <thead>\n",
              "    <tr style=\"text-align: right;\">\n",
              "      <th></th>\n",
              "      <th>artist_name</th>\n",
              "      <th>track_name</th>\n",
              "      <th>track_id</th>\n",
              "      <th>popularity</th>\n",
              "    </tr>\n",
              "  </thead>\n",
              "  <tbody>\n",
              "    <tr>\n",
              "      <th>0</th>\n",
              "      <td>Lil Happy Lil Sad</td>\n",
              "      <td>Let Me Die</td>\n",
              "      <td>46T7puWlH8ptC6lx7bQ3TY</td>\n",
              "      <td>66</td>\n",
              "    </tr>\n",
              "    <tr>\n",
              "      <th>1</th>\n",
              "      <td>Sad Monologue</td>\n",
              "      <td>Cabin Jam</td>\n",
              "      <td>3McFNMvwAOUOCM83wyTpUr</td>\n",
              "      <td>59</td>\n",
              "    </tr>\n",
              "    <tr>\n",
              "      <th>2</th>\n",
              "      <td>The Licks</td>\n",
              "      <td>Lavender Kiss</td>\n",
              "      <td>70oY6gKgHfMlVLVxFROeiA</td>\n",
              "      <td>57</td>\n",
              "    </tr>\n",
              "    <tr>\n",
              "      <th>3</th>\n",
              "      <td>Ramiro sad</td>\n",
              "      <td>Abismo</td>\n",
              "      <td>0WeBxkwIGnnoPAPNsnfEAd</td>\n",
              "      <td>50</td>\n",
              "    </tr>\n",
              "    <tr>\n",
              "      <th>4</th>\n",
              "      <td>Sad Ul</td>\n",
              "      <td>Wasteland Worry</td>\n",
              "      <td>0YsE50FuGtzivL2t8CeG9h</td>\n",
              "      <td>44</td>\n",
              "    </tr>\n",
              "  </tbody>\n",
              "</table>\n",
              "</div>"
            ],
            "text/plain": [
              "         artist_name       track_name                track_id  popularity\n",
              "0  Lil Happy Lil Sad       Let Me Die  46T7puWlH8ptC6lx7bQ3TY          66\n",
              "1      Sad Monologue        Cabin Jam  3McFNMvwAOUOCM83wyTpUr          59\n",
              "2          The Licks    Lavender Kiss  70oY6gKgHfMlVLVxFROeiA          57\n",
              "3         Ramiro sad           Abismo  0WeBxkwIGnnoPAPNsnfEAd          50\n",
              "4             Sad Ul  Wasteland Worry  0YsE50FuGtzivL2t8CeG9h          44"
            ]
          },
          "metadata": {
            "tags": []
          },
          "execution_count": 12
        }
      ]
    },
    {
      "cell_type": "code",
      "metadata": {
        "id": "ck7R0vmI8ZjZ"
      },
      "source": [
        "def cleanDuplicates(tracks):\n",
        "  grouped = tracks.groupby(['artist_name','track_name'], as_index=True).size()\n",
        "  grouped[grouped > 1].count()\n",
        "  tracks.drop_duplicates(subset=['artist_name','track_name'], inplace=True)\n",
        "  "
      ],
      "execution_count": 13,
      "outputs": []
    },
    {
      "cell_type": "code",
      "metadata": {
        "id": "O-UP-mYy9CBs"
      },
      "source": [
        "cleanDuplicates(df_calm_tracks)"
      ],
      "execution_count": 14,
      "outputs": []
    },
    {
      "cell_type": "code",
      "metadata": {
        "colab": {
          "base_uri": "https://localhost:8080/"
        },
        "id": "OfF-itHU9Fl7",
        "outputId": "19dc9ad5-12ea-46b7-df7b-acfefcb8b704"
      },
      "source": [
        "grouped_after_dropping = df_calm_tracks.groupby(['artist_name','track_name'], as_index=True).size()\n",
        "grouped_after_dropping[grouped_after_dropping > 1].count()"
      ],
      "execution_count": 15,
      "outputs": [
        {
          "output_type": "execute_result",
          "data": {
            "text/plain": [
              "0"
            ]
          },
          "metadata": {
            "tags": []
          },
          "execution_count": 15
        }
      ]
    },
    {
      "cell_type": "code",
      "metadata": {
        "id": "agytF4D59LFq"
      },
      "source": [
        "cleanDuplicates(df_energetic_tracks)\n",
        "cleanDuplicates(df_happy_tracks)\n",
        "cleanDuplicates(df_sad_tracks)"
      ],
      "execution_count": 16,
      "outputs": []
    },
    {
      "cell_type": "code",
      "metadata": {
        "colab": {
          "base_uri": "https://localhost:8080/"
        },
        "id": "xdtEP5-p9Whc",
        "outputId": "7cacfef0-111a-4cda-fe4b-a22204773bae"
      },
      "source": [
        "grouped_after_dropping = df_energetic_tracks.groupby(['artist_name','track_name'], as_index=True).size()\n",
        "grouped_after_dropping[grouped_after_dropping > 1].count()"
      ],
      "execution_count": 17,
      "outputs": [
        {
          "output_type": "execute_result",
          "data": {
            "text/plain": [
              "0"
            ]
          },
          "metadata": {
            "tags": []
          },
          "execution_count": 17
        }
      ]
    },
    {
      "cell_type": "code",
      "metadata": {
        "colab": {
          "base_uri": "https://localhost:8080/"
        },
        "id": "fMBv-DGZ_fVW",
        "outputId": "6d765b55-c12b-4f90-86d7-9691ddc06a82"
      },
      "source": [
        "grouped_after_dropping = df_sad_tracks.groupby(['artist_name','track_name'], as_index=True).size()\n",
        "grouped_after_dropping[grouped_after_dropping > 1].count()"
      ],
      "execution_count": 18,
      "outputs": [
        {
          "output_type": "execute_result",
          "data": {
            "text/plain": [
              "0"
            ]
          },
          "metadata": {
            "tags": []
          },
          "execution_count": 18
        }
      ]
    },
    {
      "cell_type": "code",
      "metadata": {
        "id": "t4ZKl1xB9cFY"
      },
      "source": [
        "def getAudioFeatures(tracks):\n",
        "  # again measuring the time\n",
        "  start = timeit.default_timer()\n",
        "\n",
        "  # empty list, batchsize and the counter for None results\n",
        "  rows = []\n",
        "  batchsize = 100\n",
        "  None_counter = 0\n",
        "\n",
        "  for i in range(0,len(tracks['track_id']),batchsize):\n",
        "      batch = tracks['track_id'][i:i+batchsize]\n",
        "      feature_results = sp.audio_features(batch)\n",
        "      for i, t in enumerate(feature_results):\n",
        "          if t == None:\n",
        "              None_counter = None_counter + 1\n",
        "          else:\n",
        "              rows.append(t)\n",
        "              \n",
        "  print('Number of tracks where no audio features were available:',None_counter)\n",
        "\n",
        "  stop = timeit.default_timer()\n",
        "  print ('Time to run this code (in seconds):',stop - start)\n",
        "  df_audio_features = pd.DataFrame.from_dict(rows,orient='columns')\n",
        "  return df_audio_features"
      ],
      "execution_count": 19,
      "outputs": []
    },
    {
      "cell_type": "code",
      "metadata": {
        "colab": {
          "base_uri": "https://localhost:8080/"
        },
        "id": "-JcjfctQ-ArG",
        "outputId": "7f7f8f6d-66cb-42c3-8f59-b20515910cdf"
      },
      "source": [
        "df_calm_audio_features = getAudioFeatures(df_calm_tracks)"
      ],
      "execution_count": 20,
      "outputs": [
        {
          "output_type": "stream",
          "text": [
            "Number of tracks where no audio features were available: 8\n",
            "Time to run this code (in seconds): 2.3287680340000065\n"
          ],
          "name": "stdout"
        }
      ]
    },
    {
      "cell_type": "code",
      "metadata": {
        "colab": {
          "base_uri": "https://localhost:8080/",
          "height": 316
        },
        "id": "mXceD5V_-G9N",
        "outputId": "68d74d02-a4d3-4115-f5b3-e41bc4919ef2"
      },
      "source": [
        "print(\"Shape of the dataset:\", df_calm_audio_features.shape)\n",
        "df_calm_audio_features.head()"
      ],
      "execution_count": 21,
      "outputs": [
        {
          "output_type": "stream",
          "text": [
            "Shape of the dataset: (190, 18)\n"
          ],
          "name": "stdout"
        },
        {
          "output_type": "execute_result",
          "data": {
            "text/html": [
              "<div>\n",
              "<style scoped>\n",
              "    .dataframe tbody tr th:only-of-type {\n",
              "        vertical-align: middle;\n",
              "    }\n",
              "\n",
              "    .dataframe tbody tr th {\n",
              "        vertical-align: top;\n",
              "    }\n",
              "\n",
              "    .dataframe thead th {\n",
              "        text-align: right;\n",
              "    }\n",
              "</style>\n",
              "<table border=\"1\" class=\"dataframe\">\n",
              "  <thead>\n",
              "    <tr style=\"text-align: right;\">\n",
              "      <th></th>\n",
              "      <th>danceability</th>\n",
              "      <th>energy</th>\n",
              "      <th>key</th>\n",
              "      <th>loudness</th>\n",
              "      <th>mode</th>\n",
              "      <th>speechiness</th>\n",
              "      <th>acousticness</th>\n",
              "      <th>instrumentalness</th>\n",
              "      <th>liveness</th>\n",
              "      <th>valence</th>\n",
              "      <th>tempo</th>\n",
              "      <th>type</th>\n",
              "      <th>id</th>\n",
              "      <th>uri</th>\n",
              "      <th>track_href</th>\n",
              "      <th>analysis_url</th>\n",
              "      <th>duration_ms</th>\n",
              "      <th>time_signature</th>\n",
              "    </tr>\n",
              "  </thead>\n",
              "  <tbody>\n",
              "    <tr>\n",
              "      <th>0</th>\n",
              "      <td>0.142</td>\n",
              "      <td>0.516</td>\n",
              "      <td>1</td>\n",
              "      <td>-25.856</td>\n",
              "      <td>1</td>\n",
              "      <td>0.0694</td>\n",
              "      <td>0.730000</td>\n",
              "      <td>0.944</td>\n",
              "      <td>0.223</td>\n",
              "      <td>0.0263</td>\n",
              "      <td>88.277</td>\n",
              "      <td>audio_features</td>\n",
              "      <td>3NTAcEKTrL3yHnEzBklXcN</td>\n",
              "      <td>spotify:track:3NTAcEKTrL3yHnEzBklXcN</td>\n",
              "      <td>https://api.spotify.com/v1/tracks/3NTAcEKTrL3y...</td>\n",
              "      <td>https://api.spotify.com/v1/audio-analysis/3NTA...</td>\n",
              "      <td>179972</td>\n",
              "      <td>4</td>\n",
              "    </tr>\n",
              "    <tr>\n",
              "      <th>1</th>\n",
              "      <td>0.142</td>\n",
              "      <td>0.320</td>\n",
              "      <td>1</td>\n",
              "      <td>-32.837</td>\n",
              "      <td>1</td>\n",
              "      <td>0.0691</td>\n",
              "      <td>0.782000</td>\n",
              "      <td>0.963</td>\n",
              "      <td>0.103</td>\n",
              "      <td>0.0373</td>\n",
              "      <td>139.713</td>\n",
              "      <td>audio_features</td>\n",
              "      <td>69mYHeNk3DSNIRBUCLCFZI</td>\n",
              "      <td>spotify:track:69mYHeNk3DSNIRBUCLCFZI</td>\n",
              "      <td>https://api.spotify.com/v1/tracks/69mYHeNk3DSN...</td>\n",
              "      <td>https://api.spotify.com/v1/audio-analysis/69mY...</td>\n",
              "      <td>241556</td>\n",
              "      <td>4</td>\n",
              "    </tr>\n",
              "    <tr>\n",
              "      <th>2</th>\n",
              "      <td>0.194</td>\n",
              "      <td>0.952</td>\n",
              "      <td>7</td>\n",
              "      <td>-17.896</td>\n",
              "      <td>1</td>\n",
              "      <td>0.0888</td>\n",
              "      <td>0.002150</td>\n",
              "      <td>0.996</td>\n",
              "      <td>0.687</td>\n",
              "      <td>0.0309</td>\n",
              "      <td>153.467</td>\n",
              "      <td>audio_features</td>\n",
              "      <td>5WAqDgplhuoFBG4IUdEP4J</td>\n",
              "      <td>spotify:track:5WAqDgplhuoFBG4IUdEP4J</td>\n",
              "      <td>https://api.spotify.com/v1/tracks/5WAqDgplhuoF...</td>\n",
              "      <td>https://api.spotify.com/v1/audio-analysis/5WAq...</td>\n",
              "      <td>157304</td>\n",
              "      <td>3</td>\n",
              "    </tr>\n",
              "    <tr>\n",
              "      <th>3</th>\n",
              "      <td>0.248</td>\n",
              "      <td>0.963</td>\n",
              "      <td>9</td>\n",
              "      <td>-18.139</td>\n",
              "      <td>1</td>\n",
              "      <td>0.0865</td>\n",
              "      <td>0.000776</td>\n",
              "      <td>0.987</td>\n",
              "      <td>0.365</td>\n",
              "      <td>0.0289</td>\n",
              "      <td>76.466</td>\n",
              "      <td>audio_features</td>\n",
              "      <td>5sMzZKg6SLtG5lcudEpDLC</td>\n",
              "      <td>spotify:track:5sMzZKg6SLtG5lcudEpDLC</td>\n",
              "      <td>https://api.spotify.com/v1/tracks/5sMzZKg6SLtG...</td>\n",
              "      <td>https://api.spotify.com/v1/audio-analysis/5sMz...</td>\n",
              "      <td>140142</td>\n",
              "      <td>3</td>\n",
              "    </tr>\n",
              "    <tr>\n",
              "      <th>4</th>\n",
              "      <td>0.288</td>\n",
              "      <td>0.949</td>\n",
              "      <td>0</td>\n",
              "      <td>-27.451</td>\n",
              "      <td>1</td>\n",
              "      <td>0.1100</td>\n",
              "      <td>0.211000</td>\n",
              "      <td>0.929</td>\n",
              "      <td>0.882</td>\n",
              "      <td>0.0227</td>\n",
              "      <td>89.076</td>\n",
              "      <td>audio_features</td>\n",
              "      <td>1iwAjsOxILo4p6uOZLD0Fa</td>\n",
              "      <td>spotify:track:1iwAjsOxILo4p6uOZLD0Fa</td>\n",
              "      <td>https://api.spotify.com/v1/tracks/1iwAjsOxILo4...</td>\n",
              "      <td>https://api.spotify.com/v1/audio-analysis/1iwA...</td>\n",
              "      <td>243533</td>\n",
              "      <td>4</td>\n",
              "    </tr>\n",
              "  </tbody>\n",
              "</table>\n",
              "</div>"
            ],
            "text/plain": [
              "   danceability  energy  ...  duration_ms  time_signature\n",
              "0         0.142   0.516  ...       179972               4\n",
              "1         0.142   0.320  ...       241556               4\n",
              "2         0.194   0.952  ...       157304               3\n",
              "3         0.248   0.963  ...       140142               3\n",
              "4         0.288   0.949  ...       243533               4\n",
              "\n",
              "[5 rows x 18 columns]"
            ]
          },
          "metadata": {
            "tags": []
          },
          "execution_count": 21
        }
      ]
    },
    {
      "cell_type": "code",
      "metadata": {
        "colab": {
          "base_uri": "https://localhost:8080/"
        },
        "id": "F7wo9saX-gBo",
        "outputId": "375f687f-7a99-49aa-89a5-dd2f2393d554"
      },
      "source": [
        "df_energetic_audio_features = getAudioFeatures(df_energetic_tracks)"
      ],
      "execution_count": 22,
      "outputs": [
        {
          "output_type": "stream",
          "text": [
            "Number of tracks where no audio features were available: 0\n",
            "Time to run this code (in seconds): 0.492819360999988\n"
          ],
          "name": "stdout"
        }
      ]
    },
    {
      "cell_type": "code",
      "metadata": {
        "colab": {
          "base_uri": "https://localhost:8080/",
          "height": 316
        },
        "id": "7sIAqSNH-2xY",
        "outputId": "cdf2f806-da25-4455-d044-f0388005fde9"
      },
      "source": [
        "print(\"Shape of the dataset:\", df_energetic_audio_features.shape)\n",
        "df_energetic_audio_features.head()"
      ],
      "execution_count": 23,
      "outputs": [
        {
          "output_type": "stream",
          "text": [
            "Shape of the dataset: (200, 18)\n"
          ],
          "name": "stdout"
        },
        {
          "output_type": "execute_result",
          "data": {
            "text/html": [
              "<div>\n",
              "<style scoped>\n",
              "    .dataframe tbody tr th:only-of-type {\n",
              "        vertical-align: middle;\n",
              "    }\n",
              "\n",
              "    .dataframe tbody tr th {\n",
              "        vertical-align: top;\n",
              "    }\n",
              "\n",
              "    .dataframe thead th {\n",
              "        text-align: right;\n",
              "    }\n",
              "</style>\n",
              "<table border=\"1\" class=\"dataframe\">\n",
              "  <thead>\n",
              "    <tr style=\"text-align: right;\">\n",
              "      <th></th>\n",
              "      <th>danceability</th>\n",
              "      <th>energy</th>\n",
              "      <th>key</th>\n",
              "      <th>loudness</th>\n",
              "      <th>mode</th>\n",
              "      <th>speechiness</th>\n",
              "      <th>acousticness</th>\n",
              "      <th>instrumentalness</th>\n",
              "      <th>liveness</th>\n",
              "      <th>valence</th>\n",
              "      <th>tempo</th>\n",
              "      <th>type</th>\n",
              "      <th>id</th>\n",
              "      <th>uri</th>\n",
              "      <th>track_href</th>\n",
              "      <th>analysis_url</th>\n",
              "      <th>duration_ms</th>\n",
              "      <th>time_signature</th>\n",
              "    </tr>\n",
              "  </thead>\n",
              "  <tbody>\n",
              "    <tr>\n",
              "      <th>0</th>\n",
              "      <td>0.790</td>\n",
              "      <td>0.703</td>\n",
              "      <td>7</td>\n",
              "      <td>-4.285</td>\n",
              "      <td>1</td>\n",
              "      <td>0.1150</td>\n",
              "      <td>0.20700</td>\n",
              "      <td>0.000000</td>\n",
              "      <td>0.1140</td>\n",
              "      <td>0.399</td>\n",
              "      <td>139.995</td>\n",
              "      <td>audio_features</td>\n",
              "      <td>5XgfOmcWvkXTDmOfO81NRP</td>\n",
              "      <td>spotify:track:5XgfOmcWvkXTDmOfO81NRP</td>\n",
              "      <td>https://api.spotify.com/v1/tracks/5XgfOmcWvkXT...</td>\n",
              "      <td>https://api.spotify.com/v1/audio-analysis/5Xgf...</td>\n",
              "      <td>292781</td>\n",
              "      <td>4</td>\n",
              "    </tr>\n",
              "    <tr>\n",
              "      <th>1</th>\n",
              "      <td>0.466</td>\n",
              "      <td>0.680</td>\n",
              "      <td>11</td>\n",
              "      <td>-6.729</td>\n",
              "      <td>0</td>\n",
              "      <td>0.0408</td>\n",
              "      <td>0.01540</td>\n",
              "      <td>0.000047</td>\n",
              "      <td>0.1500</td>\n",
              "      <td>0.221</td>\n",
              "      <td>99.943</td>\n",
              "      <td>audio_features</td>\n",
              "      <td>6cVj2hWi6hDovzI6fjWH3N</td>\n",
              "      <td>spotify:track:6cVj2hWi6hDovzI6fjWH3N</td>\n",
              "      <td>https://api.spotify.com/v1/tracks/6cVj2hWi6hDo...</td>\n",
              "      <td>https://api.spotify.com/v1/audio-analysis/6cVj...</td>\n",
              "      <td>216059</td>\n",
              "      <td>4</td>\n",
              "    </tr>\n",
              "    <tr>\n",
              "      <th>2</th>\n",
              "      <td>0.811</td>\n",
              "      <td>0.901</td>\n",
              "      <td>11</td>\n",
              "      <td>-5.390</td>\n",
              "      <td>0</td>\n",
              "      <td>0.0389</td>\n",
              "      <td>0.00211</td>\n",
              "      <td>0.848000</td>\n",
              "      <td>0.0425</td>\n",
              "      <td>0.725</td>\n",
              "      <td>127.994</td>\n",
              "      <td>audio_features</td>\n",
              "      <td>3d0t8krXtXnNsCPXruNWqR</td>\n",
              "      <td>spotify:track:3d0t8krXtXnNsCPXruNWqR</td>\n",
              "      <td>https://api.spotify.com/v1/tracks/3d0t8krXtXnN...</td>\n",
              "      <td>https://api.spotify.com/v1/audio-analysis/3d0t...</td>\n",
              "      <td>131250</td>\n",
              "      <td>4</td>\n",
              "    </tr>\n",
              "    <tr>\n",
              "      <th>3</th>\n",
              "      <td>0.737</td>\n",
              "      <td>0.434</td>\n",
              "      <td>6</td>\n",
              "      <td>-14.013</td>\n",
              "      <td>1</td>\n",
              "      <td>0.9020</td>\n",
              "      <td>0.54000</td>\n",
              "      <td>0.000000</td>\n",
              "      <td>0.3320</td>\n",
              "      <td>0.634</td>\n",
              "      <td>101.835</td>\n",
              "      <td>audio_features</td>\n",
              "      <td>1dkMVDHOBz2r171zApCVdr</td>\n",
              "      <td>spotify:track:1dkMVDHOBz2r171zApCVdr</td>\n",
              "      <td>https://api.spotify.com/v1/tracks/1dkMVDHOBz2r...</td>\n",
              "      <td>https://api.spotify.com/v1/audio-analysis/1dkM...</td>\n",
              "      <td>115693</td>\n",
              "      <td>4</td>\n",
              "    </tr>\n",
              "    <tr>\n",
              "      <th>4</th>\n",
              "      <td>0.718</td>\n",
              "      <td>0.365</td>\n",
              "      <td>1</td>\n",
              "      <td>-12.127</td>\n",
              "      <td>0</td>\n",
              "      <td>0.8900</td>\n",
              "      <td>0.74900</td>\n",
              "      <td>0.000000</td>\n",
              "      <td>0.0926</td>\n",
              "      <td>0.684</td>\n",
              "      <td>83.722</td>\n",
              "      <td>audio_features</td>\n",
              "      <td>2i1yUnMB9c1pXjtf7mtRJS</td>\n",
              "      <td>spotify:track:2i1yUnMB9c1pXjtf7mtRJS</td>\n",
              "      <td>https://api.spotify.com/v1/tracks/2i1yUnMB9c1p...</td>\n",
              "      <td>https://api.spotify.com/v1/audio-analysis/2i1y...</td>\n",
              "      <td>108387</td>\n",
              "      <td>4</td>\n",
              "    </tr>\n",
              "  </tbody>\n",
              "</table>\n",
              "</div>"
            ],
            "text/plain": [
              "   danceability  energy  ...  duration_ms  time_signature\n",
              "0         0.790   0.703  ...       292781               4\n",
              "1         0.466   0.680  ...       216059               4\n",
              "2         0.811   0.901  ...       131250               4\n",
              "3         0.737   0.434  ...       115693               4\n",
              "4         0.718   0.365  ...       108387               4\n",
              "\n",
              "[5 rows x 18 columns]"
            ]
          },
          "metadata": {
            "tags": []
          },
          "execution_count": 23
        }
      ]
    },
    {
      "cell_type": "code",
      "metadata": {
        "colab": {
          "base_uri": "https://localhost:8080/"
        },
        "id": "g1iOISEY-717",
        "outputId": "be8e582d-7410-4a05-f149-7ed23ae4b088"
      },
      "source": [
        "df_happy_audio_features = getAudioFeatures(df_happy_tracks)"
      ],
      "execution_count": 24,
      "outputs": [
        {
          "output_type": "stream",
          "text": [
            "Number of tracks where no audio features were available: 0\n",
            "Time to run this code (in seconds): 3.735616331000017\n"
          ],
          "name": "stdout"
        }
      ]
    },
    {
      "cell_type": "code",
      "metadata": {
        "colab": {
          "base_uri": "https://localhost:8080/",
          "height": 316
        },
        "id": "ImN8SwVA_Avh",
        "outputId": "90593a57-a855-447a-89ea-47d380632dce"
      },
      "source": [
        "print(\"Shape of the dataset:\", df_happy_audio_features.shape)\n",
        "df_happy_audio_features.head()"
      ],
      "execution_count": 25,
      "outputs": [
        {
          "output_type": "stream",
          "text": [
            "Shape of the dataset: (200, 18)\n"
          ],
          "name": "stdout"
        },
        {
          "output_type": "execute_result",
          "data": {
            "text/html": [
              "<div>\n",
              "<style scoped>\n",
              "    .dataframe tbody tr th:only-of-type {\n",
              "        vertical-align: middle;\n",
              "    }\n",
              "\n",
              "    .dataframe tbody tr th {\n",
              "        vertical-align: top;\n",
              "    }\n",
              "\n",
              "    .dataframe thead th {\n",
              "        text-align: right;\n",
              "    }\n",
              "</style>\n",
              "<table border=\"1\" class=\"dataframe\">\n",
              "  <thead>\n",
              "    <tr style=\"text-align: right;\">\n",
              "      <th></th>\n",
              "      <th>danceability</th>\n",
              "      <th>energy</th>\n",
              "      <th>key</th>\n",
              "      <th>loudness</th>\n",
              "      <th>mode</th>\n",
              "      <th>speechiness</th>\n",
              "      <th>acousticness</th>\n",
              "      <th>instrumentalness</th>\n",
              "      <th>liveness</th>\n",
              "      <th>valence</th>\n",
              "      <th>tempo</th>\n",
              "      <th>type</th>\n",
              "      <th>id</th>\n",
              "      <th>uri</th>\n",
              "      <th>track_href</th>\n",
              "      <th>analysis_url</th>\n",
              "      <th>duration_ms</th>\n",
              "      <th>time_signature</th>\n",
              "    </tr>\n",
              "  </thead>\n",
              "  <tbody>\n",
              "    <tr>\n",
              "      <th>0</th>\n",
              "      <td>0.650</td>\n",
              "      <td>0.971</td>\n",
              "      <td>5</td>\n",
              "      <td>-4.088</td>\n",
              "      <td>0</td>\n",
              "      <td>0.2090</td>\n",
              "      <td>0.00656</td>\n",
              "      <td>0.0327</td>\n",
              "      <td>0.2580</td>\n",
              "      <td>0.200</td>\n",
              "      <td>139.970</td>\n",
              "      <td>audio_features</td>\n",
              "      <td>6pAzrdqZKo4AnRWDKStG7R</td>\n",
              "      <td>spotify:track:6pAzrdqZKo4AnRWDKStG7R</td>\n",
              "      <td>https://api.spotify.com/v1/tracks/6pAzrdqZKo4A...</td>\n",
              "      <td>https://api.spotify.com/v1/audio-analysis/6pAz...</td>\n",
              "      <td>197250</td>\n",
              "      <td>4</td>\n",
              "    </tr>\n",
              "    <tr>\n",
              "      <th>1</th>\n",
              "      <td>0.685</td>\n",
              "      <td>0.554</td>\n",
              "      <td>7</td>\n",
              "      <td>-10.473</td>\n",
              "      <td>1</td>\n",
              "      <td>0.1150</td>\n",
              "      <td>0.44300</td>\n",
              "      <td>0.0000</td>\n",
              "      <td>0.4820</td>\n",
              "      <td>0.789</td>\n",
              "      <td>160.002</td>\n",
              "      <td>audio_features</td>\n",
              "      <td>3LbO439QNr3IX7Ho39Fq8X</td>\n",
              "      <td>spotify:track:3LbO439QNr3IX7Ho39Fq8X</td>\n",
              "      <td>https://api.spotify.com/v1/tracks/3LbO439QNr3I...</td>\n",
              "      <td>https://api.spotify.com/v1/audio-analysis/3LbO...</td>\n",
              "      <td>201258</td>\n",
              "      <td>4</td>\n",
              "    </tr>\n",
              "    <tr>\n",
              "      <th>2</th>\n",
              "      <td>0.503</td>\n",
              "      <td>0.370</td>\n",
              "      <td>11</td>\n",
              "      <td>-17.502</td>\n",
              "      <td>1</td>\n",
              "      <td>0.0489</td>\n",
              "      <td>0.76800</td>\n",
              "      <td>0.5990</td>\n",
              "      <td>0.1160</td>\n",
              "      <td>0.102</td>\n",
              "      <td>78.963</td>\n",
              "      <td>audio_features</td>\n",
              "      <td>46T7puWlH8ptC6lx7bQ3TY</td>\n",
              "      <td>spotify:track:46T7puWlH8ptC6lx7bQ3TY</td>\n",
              "      <td>https://api.spotify.com/v1/tracks/46T7puWlH8pt...</td>\n",
              "      <td>https://api.spotify.com/v1/audio-analysis/46T7...</td>\n",
              "      <td>218776</td>\n",
              "      <td>4</td>\n",
              "    </tr>\n",
              "    <tr>\n",
              "      <th>3</th>\n",
              "      <td>0.834</td>\n",
              "      <td>0.531</td>\n",
              "      <td>3</td>\n",
              "      <td>-10.450</td>\n",
              "      <td>1</td>\n",
              "      <td>0.1600</td>\n",
              "      <td>0.48000</td>\n",
              "      <td>0.0000</td>\n",
              "      <td>0.0957</td>\n",
              "      <td>0.390</td>\n",
              "      <td>99.999</td>\n",
              "      <td>audio_features</td>\n",
              "      <td>5erGUceK8ieHWtTXdnGP65</td>\n",
              "      <td>spotify:track:5erGUceK8ieHWtTXdnGP65</td>\n",
              "      <td>https://api.spotify.com/v1/tracks/5erGUceK8ieH...</td>\n",
              "      <td>https://api.spotify.com/v1/audio-analysis/5erG...</td>\n",
              "      <td>239612</td>\n",
              "      <td>4</td>\n",
              "    </tr>\n",
              "    <tr>\n",
              "      <th>4</th>\n",
              "      <td>0.848</td>\n",
              "      <td>0.475</td>\n",
              "      <td>0</td>\n",
              "      <td>-8.949</td>\n",
              "      <td>1</td>\n",
              "      <td>0.4760</td>\n",
              "      <td>0.01380</td>\n",
              "      <td>0.0000</td>\n",
              "      <td>0.1070</td>\n",
              "      <td>0.195</td>\n",
              "      <td>138.917</td>\n",
              "      <td>audio_features</td>\n",
              "      <td>0Y9kRbsQKC9zSmfzxPgYiT</td>\n",
              "      <td>spotify:track:0Y9kRbsQKC9zSmfzxPgYiT</td>\n",
              "      <td>https://api.spotify.com/v1/tracks/0Y9kRbsQKC9z...</td>\n",
              "      <td>https://api.spotify.com/v1/audio-analysis/0Y9k...</td>\n",
              "      <td>124317</td>\n",
              "      <td>4</td>\n",
              "    </tr>\n",
              "  </tbody>\n",
              "</table>\n",
              "</div>"
            ],
            "text/plain": [
              "   danceability  energy  ...  duration_ms  time_signature\n",
              "0         0.650   0.971  ...       197250               4\n",
              "1         0.685   0.554  ...       201258               4\n",
              "2         0.503   0.370  ...       218776               4\n",
              "3         0.834   0.531  ...       239612               4\n",
              "4         0.848   0.475  ...       124317               4\n",
              "\n",
              "[5 rows x 18 columns]"
            ]
          },
          "metadata": {
            "tags": []
          },
          "execution_count": 25
        }
      ]
    },
    {
      "cell_type": "code",
      "metadata": {
        "colab": {
          "base_uri": "https://localhost:8080/"
        },
        "id": "vxaxzrv6_QG0",
        "outputId": "1372257d-31fc-402b-cab8-b303e2d85aab"
      },
      "source": [
        "df_sad_audio_features = getAudioFeatures(df_sad_tracks)"
      ],
      "execution_count": 26,
      "outputs": [
        {
          "output_type": "stream",
          "text": [
            "Number of tracks where no audio features were available: 0\n",
            "Time to run this code (in seconds): 0.48390145700000176\n"
          ],
          "name": "stdout"
        }
      ]
    },
    {
      "cell_type": "code",
      "metadata": {
        "colab": {
          "base_uri": "https://localhost:8080/",
          "height": 316
        },
        "id": "8UaIWBMC_TeX",
        "outputId": "3501bd03-e1f7-40a1-caff-57ec27198897"
      },
      "source": [
        "print(\"Shape of the dataset:\", df_sad_audio_features.shape)\n",
        "df_sad_audio_features.head()"
      ],
      "execution_count": 27,
      "outputs": [
        {
          "output_type": "stream",
          "text": [
            "Shape of the dataset: (198, 18)\n"
          ],
          "name": "stdout"
        },
        {
          "output_type": "execute_result",
          "data": {
            "text/html": [
              "<div>\n",
              "<style scoped>\n",
              "    .dataframe tbody tr th:only-of-type {\n",
              "        vertical-align: middle;\n",
              "    }\n",
              "\n",
              "    .dataframe tbody tr th {\n",
              "        vertical-align: top;\n",
              "    }\n",
              "\n",
              "    .dataframe thead th {\n",
              "        text-align: right;\n",
              "    }\n",
              "</style>\n",
              "<table border=\"1\" class=\"dataframe\">\n",
              "  <thead>\n",
              "    <tr style=\"text-align: right;\">\n",
              "      <th></th>\n",
              "      <th>danceability</th>\n",
              "      <th>energy</th>\n",
              "      <th>key</th>\n",
              "      <th>loudness</th>\n",
              "      <th>mode</th>\n",
              "      <th>speechiness</th>\n",
              "      <th>acousticness</th>\n",
              "      <th>instrumentalness</th>\n",
              "      <th>liveness</th>\n",
              "      <th>valence</th>\n",
              "      <th>tempo</th>\n",
              "      <th>type</th>\n",
              "      <th>id</th>\n",
              "      <th>uri</th>\n",
              "      <th>track_href</th>\n",
              "      <th>analysis_url</th>\n",
              "      <th>duration_ms</th>\n",
              "      <th>time_signature</th>\n",
              "    </tr>\n",
              "  </thead>\n",
              "  <tbody>\n",
              "    <tr>\n",
              "      <th>0</th>\n",
              "      <td>0.503</td>\n",
              "      <td>0.370</td>\n",
              "      <td>11</td>\n",
              "      <td>-17.502</td>\n",
              "      <td>1</td>\n",
              "      <td>0.0489</td>\n",
              "      <td>0.76800</td>\n",
              "      <td>0.5990</td>\n",
              "      <td>0.1160</td>\n",
              "      <td>0.102</td>\n",
              "      <td>78.963</td>\n",
              "      <td>audio_features</td>\n",
              "      <td>46T7puWlH8ptC6lx7bQ3TY</td>\n",
              "      <td>spotify:track:46T7puWlH8ptC6lx7bQ3TY</td>\n",
              "      <td>https://api.spotify.com/v1/tracks/46T7puWlH8pt...</td>\n",
              "      <td>https://api.spotify.com/v1/audio-analysis/46T7...</td>\n",
              "      <td>218776</td>\n",
              "      <td>4</td>\n",
              "    </tr>\n",
              "    <tr>\n",
              "      <th>1</th>\n",
              "      <td>0.477</td>\n",
              "      <td>0.370</td>\n",
              "      <td>4</td>\n",
              "      <td>-12.394</td>\n",
              "      <td>1</td>\n",
              "      <td>0.0315</td>\n",
              "      <td>0.68900</td>\n",
              "      <td>0.7990</td>\n",
              "      <td>0.0977</td>\n",
              "      <td>0.638</td>\n",
              "      <td>179.707</td>\n",
              "      <td>audio_features</td>\n",
              "      <td>3McFNMvwAOUOCM83wyTpUr</td>\n",
              "      <td>spotify:track:3McFNMvwAOUOCM83wyTpUr</td>\n",
              "      <td>https://api.spotify.com/v1/tracks/3McFNMvwAOUO...</td>\n",
              "      <td>https://api.spotify.com/v1/audio-analysis/3McF...</td>\n",
              "      <td>192710</td>\n",
              "      <td>4</td>\n",
              "    </tr>\n",
              "    <tr>\n",
              "      <th>2</th>\n",
              "      <td>0.578</td>\n",
              "      <td>0.115</td>\n",
              "      <td>0</td>\n",
              "      <td>-20.333</td>\n",
              "      <td>1</td>\n",
              "      <td>0.0360</td>\n",
              "      <td>0.00922</td>\n",
              "      <td>0.0031</td>\n",
              "      <td>0.0834</td>\n",
              "      <td>0.363</td>\n",
              "      <td>199.975</td>\n",
              "      <td>audio_features</td>\n",
              "      <td>70oY6gKgHfMlVLVxFROeiA</td>\n",
              "      <td>spotify:track:70oY6gKgHfMlVLVxFROeiA</td>\n",
              "      <td>https://api.spotify.com/v1/tracks/70oY6gKgHfMl...</td>\n",
              "      <td>https://api.spotify.com/v1/audio-analysis/70oY...</td>\n",
              "      <td>243646</td>\n",
              "      <td>3</td>\n",
              "    </tr>\n",
              "    <tr>\n",
              "      <th>3</th>\n",
              "      <td>0.677</td>\n",
              "      <td>0.416</td>\n",
              "      <td>0</td>\n",
              "      <td>-11.775</td>\n",
              "      <td>1</td>\n",
              "      <td>0.0313</td>\n",
              "      <td>0.42100</td>\n",
              "      <td>0.0000</td>\n",
              "      <td>0.1350</td>\n",
              "      <td>0.172</td>\n",
              "      <td>126.174</td>\n",
              "      <td>audio_features</td>\n",
              "      <td>0WeBxkwIGnnoPAPNsnfEAd</td>\n",
              "      <td>spotify:track:0WeBxkwIGnnoPAPNsnfEAd</td>\n",
              "      <td>https://api.spotify.com/v1/tracks/0WeBxkwIGnno...</td>\n",
              "      <td>https://api.spotify.com/v1/audio-analysis/0WeB...</td>\n",
              "      <td>174762</td>\n",
              "      <td>4</td>\n",
              "    </tr>\n",
              "    <tr>\n",
              "      <th>4</th>\n",
              "      <td>0.543</td>\n",
              "      <td>0.788</td>\n",
              "      <td>5</td>\n",
              "      <td>-0.949</td>\n",
              "      <td>0</td>\n",
              "      <td>0.3180</td>\n",
              "      <td>0.12900</td>\n",
              "      <td>0.0000</td>\n",
              "      <td>0.4210</td>\n",
              "      <td>0.468</td>\n",
              "      <td>142.784</td>\n",
              "      <td>audio_features</td>\n",
              "      <td>0YsE50FuGtzivL2t8CeG9h</td>\n",
              "      <td>spotify:track:0YsE50FuGtzivL2t8CeG9h</td>\n",
              "      <td>https://api.spotify.com/v1/tracks/0YsE50FuGtzi...</td>\n",
              "      <td>https://api.spotify.com/v1/audio-analysis/0YsE...</td>\n",
              "      <td>64016</td>\n",
              "      <td>4</td>\n",
              "    </tr>\n",
              "  </tbody>\n",
              "</table>\n",
              "</div>"
            ],
            "text/plain": [
              "   danceability  energy  ...  duration_ms  time_signature\n",
              "0         0.503   0.370  ...       218776               4\n",
              "1         0.477   0.370  ...       192710               4\n",
              "2         0.578   0.115  ...       243646               3\n",
              "3         0.677   0.416  ...       174762               4\n",
              "4         0.543   0.788  ...        64016               4\n",
              "\n",
              "[5 rows x 18 columns]"
            ]
          },
          "metadata": {
            "tags": []
          },
          "execution_count": 27
        }
      ]
    },
    {
      "cell_type": "code",
      "metadata": {
        "id": "NADhCJmw_vaJ"
      },
      "source": [
        "def dropColumns(df_audio_features):\n",
        "  columns_to_drop = ['analysis_url','track_href','type']\n",
        "  df_audio_features.drop(columns_to_drop, axis=1,inplace=True)\n",
        "\n",
        "  df_audio_features.rename(columns={'id': 'track_id'}, inplace=True)\n",
        "\n",
        "  df_audio_features.shape"
      ],
      "execution_count": 28,
      "outputs": []
    },
    {
      "cell_type": "code",
      "metadata": {
        "id": "-4S2f110AHXH"
      },
      "source": [
        "dropColumns(df_calm_audio_features)\n",
        "dropColumns(df_energetic_audio_features)\n",
        "dropColumns(df_happy_audio_features)\n",
        "dropColumns(df_sad_audio_features)"
      ],
      "execution_count": 29,
      "outputs": []
    },
    {
      "cell_type": "code",
      "metadata": {
        "id": "5lJ78n7UMfRI"
      },
      "source": [
        "if not 'label' in df_calm_audio_features:\n",
        "  df_calm_audio_features['label'] = 1 # label calm with 1\n",
        "\n",
        "if not 'label' in df_energetic_audio_features:\n",
        "  df_energetic_audio_features['label'] = 2 # label energetic with 2\n",
        "\n",
        "if not 'label' in df_happy_audio_features:\n",
        "  df_happy_audio_features['label'] = 3 # label happy with 3\n",
        "\n",
        "if not 'label' in df_sad_audio_features:\n",
        "  df_sad_audio_features['label'] = 4 # label sad with 4"
      ],
      "execution_count": 46,
      "outputs": []
    },
    {
      "cell_type": "code",
      "metadata": {
        "id": "5EMmm6JJAUsK"
      },
      "source": [
        "def mergeDataframes(df_tracks,df_audio_features):\n",
        "  # merge both dataframes\n",
        "  # the 'inner' method will make sure that we only keep track IDs present in both datasets\n",
        "  df = pd.merge(df_tracks,df_audio_features,on='track_id',how='inner')\n",
        "  \n",
        "  return df"
      ],
      "execution_count": 33,
      "outputs": []
    },
    {
      "cell_type": "code",
      "metadata": {
        "id": "3Uss7BXdAhmK"
      },
      "source": [
        "df_calm = mergeDataframes(df_calm_tracks, df_calm_audio_features)\n",
        "df_energetic = mergeDataframes(df_energetic_tracks, df_energetic_audio_features)\n",
        "df_happy = mergeDataframes(df_happy_tracks, df_happy_audio_features)\n",
        "df_sad = mergeDataframes(df_sad_tracks, df_sad_audio_features)"
      ],
      "execution_count": 47,
      "outputs": []
    },
    {
      "cell_type": "code",
      "metadata": {
        "id": "lMX1qCJOA3Lf"
      },
      "source": [
        "df_calm.to_csv('calm.csv')\n",
        "df_energetic.to_csv('energetic.csv')\n",
        "df_happy.to_csv('happy.csv')\n",
        "df_sad.to_csv('sad.csv')"
      ],
      "execution_count": 35,
      "outputs": []
    },
    {
      "cell_type": "code",
      "metadata": {
        "id": "GZqbMdKOqf_O"
      },
      "source": [
        "%mkdir data_from_spotify"
      ],
      "execution_count": 36,
      "outputs": []
    },
    {
      "cell_type": "code",
      "metadata": {
        "id": "ZpchIdxurlbe"
      },
      "source": [
        "!mv \"/content/calm.csv\" \"/content/data_from_spotify\""
      ],
      "execution_count": 37,
      "outputs": []
    },
    {
      "cell_type": "code",
      "metadata": {
        "id": "Yi1aST07r4D4"
      },
      "source": [
        "!mv \"/content/energetic.csv\" \"/content/data_from_spotify\""
      ],
      "execution_count": 38,
      "outputs": []
    },
    {
      "cell_type": "code",
      "metadata": {
        "id": "QIO7Ubwyr-Ah"
      },
      "source": [
        "!mv \"/content/happy.csv\" \"/content/data_from_spotify\""
      ],
      "execution_count": 39,
      "outputs": []
    },
    {
      "cell_type": "code",
      "metadata": {
        "id": "jyZ2Rk4YsBOs"
      },
      "source": [
        "!mv \"/content/sad.csv\" \"/content/data_from_spotify\""
      ],
      "execution_count": 40,
      "outputs": []
    },
    {
      "cell_type": "code",
      "metadata": {
        "id": "vN726JbavMPt"
      },
      "source": [
        "df_list = [df_calm, df_energetic, df_happy, df_sad]"
      ],
      "execution_count": 49,
      "outputs": []
    },
    {
      "cell_type": "code",
      "metadata": {
        "id": "JFNlkdDvvZyl"
      },
      "source": [
        "df = pd.concat(df_list)"
      ],
      "execution_count": 50,
      "outputs": []
    },
    {
      "cell_type": "code",
      "metadata": {
        "colab": {
          "base_uri": "https://localhost:8080/",
          "height": 590
        },
        "id": "Y8lR0YO1vdQC",
        "outputId": "c994585e-6ba8-4a10-8302-94618ddb8292"
      },
      "source": [
        "df"
      ],
      "execution_count": 51,
      "outputs": [
        {
          "output_type": "execute_result",
          "data": {
            "text/html": [
              "<div>\n",
              "<style scoped>\n",
              "    .dataframe tbody tr th:only-of-type {\n",
              "        vertical-align: middle;\n",
              "    }\n",
              "\n",
              "    .dataframe tbody tr th {\n",
              "        vertical-align: top;\n",
              "    }\n",
              "\n",
              "    .dataframe thead th {\n",
              "        text-align: right;\n",
              "    }\n",
              "</style>\n",
              "<table border=\"1\" class=\"dataframe\">\n",
              "  <thead>\n",
              "    <tr style=\"text-align: right;\">\n",
              "      <th></th>\n",
              "      <th>artist_name</th>\n",
              "      <th>track_name</th>\n",
              "      <th>track_id</th>\n",
              "      <th>popularity</th>\n",
              "      <th>danceability</th>\n",
              "      <th>energy</th>\n",
              "      <th>key</th>\n",
              "      <th>loudness</th>\n",
              "      <th>mode</th>\n",
              "      <th>speechiness</th>\n",
              "      <th>acousticness</th>\n",
              "      <th>instrumentalness</th>\n",
              "      <th>liveness</th>\n",
              "      <th>valence</th>\n",
              "      <th>tempo</th>\n",
              "      <th>uri</th>\n",
              "      <th>duration_ms</th>\n",
              "      <th>time_signature</th>\n",
              "      <th>label</th>\n",
              "    </tr>\n",
              "  </thead>\n",
              "  <tbody>\n",
              "    <tr>\n",
              "      <th>0</th>\n",
              "      <td>The Calm Factory</td>\n",
              "      <td>Forest Thunderstorm</td>\n",
              "      <td>3NTAcEKTrL3yHnEzBklXcN</td>\n",
              "      <td>63</td>\n",
              "      <td>0.142</td>\n",
              "      <td>0.516</td>\n",
              "      <td>1</td>\n",
              "      <td>-25.856</td>\n",
              "      <td>1</td>\n",
              "      <td>0.0694</td>\n",
              "      <td>0.730000</td>\n",
              "      <td>0.944000</td>\n",
              "      <td>0.2230</td>\n",
              "      <td>0.0263</td>\n",
              "      <td>88.277</td>\n",
              "      <td>spotify:track:3NTAcEKTrL3yHnEzBklXcN</td>\n",
              "      <td>179972</td>\n",
              "      <td>4</td>\n",
              "      <td>1</td>\n",
              "    </tr>\n",
              "    <tr>\n",
              "      <th>1</th>\n",
              "      <td>The Calm Factory</td>\n",
              "      <td>Calm Before The Storm</td>\n",
              "      <td>69mYHeNk3DSNIRBUCLCFZI</td>\n",
              "      <td>60</td>\n",
              "      <td>0.142</td>\n",
              "      <td>0.320</td>\n",
              "      <td>1</td>\n",
              "      <td>-32.837</td>\n",
              "      <td>1</td>\n",
              "      <td>0.0691</td>\n",
              "      <td>0.782000</td>\n",
              "      <td>0.963000</td>\n",
              "      <td>0.1030</td>\n",
              "      <td>0.0373</td>\n",
              "      <td>139.713</td>\n",
              "      <td>spotify:track:69mYHeNk3DSNIRBUCLCFZI</td>\n",
              "      <td>241556</td>\n",
              "      <td>4</td>\n",
              "      <td>1</td>\n",
              "    </tr>\n",
              "    <tr>\n",
              "      <th>2</th>\n",
              "      <td>The Calm Factory</td>\n",
              "      <td>Rain For Relaxation</td>\n",
              "      <td>5WAqDgplhuoFBG4IUdEP4J</td>\n",
              "      <td>59</td>\n",
              "      <td>0.194</td>\n",
              "      <td>0.952</td>\n",
              "      <td>7</td>\n",
              "      <td>-17.896</td>\n",
              "      <td>1</td>\n",
              "      <td>0.0888</td>\n",
              "      <td>0.002150</td>\n",
              "      <td>0.996000</td>\n",
              "      <td>0.6870</td>\n",
              "      <td>0.0309</td>\n",
              "      <td>153.467</td>\n",
              "      <td>spotify:track:5WAqDgplhuoFBG4IUdEP4J</td>\n",
              "      <td>157304</td>\n",
              "      <td>3</td>\n",
              "      <td>1</td>\n",
              "    </tr>\n",
              "    <tr>\n",
              "      <th>3</th>\n",
              "      <td>The Calm Factory</td>\n",
              "      <td>Chuva soa para dormir</td>\n",
              "      <td>5sMzZKg6SLtG5lcudEpDLC</td>\n",
              "      <td>58</td>\n",
              "      <td>0.248</td>\n",
              "      <td>0.963</td>\n",
              "      <td>9</td>\n",
              "      <td>-18.139</td>\n",
              "      <td>1</td>\n",
              "      <td>0.0865</td>\n",
              "      <td>0.000776</td>\n",
              "      <td>0.987000</td>\n",
              "      <td>0.3650</td>\n",
              "      <td>0.0289</td>\n",
              "      <td>76.466</td>\n",
              "      <td>spotify:track:5sMzZKg6SLtG5lcudEpDLC</td>\n",
              "      <td>140142</td>\n",
              "      <td>3</td>\n",
              "      <td>1</td>\n",
              "    </tr>\n",
              "    <tr>\n",
              "      <th>4</th>\n",
              "      <td>Sounds Of Calm</td>\n",
              "      <td>Small River On Rocks</td>\n",
              "      <td>1iwAjsOxILo4p6uOZLD0Fa</td>\n",
              "      <td>47</td>\n",
              "      <td>0.288</td>\n",
              "      <td>0.949</td>\n",
              "      <td>0</td>\n",
              "      <td>-27.451</td>\n",
              "      <td>1</td>\n",
              "      <td>0.1100</td>\n",
              "      <td>0.211000</td>\n",
              "      <td>0.929000</td>\n",
              "      <td>0.8820</td>\n",
              "      <td>0.0227</td>\n",
              "      <td>89.076</td>\n",
              "      <td>spotify:track:1iwAjsOxILo4p6uOZLD0Fa</td>\n",
              "      <td>243533</td>\n",
              "      <td>4</td>\n",
              "      <td>1</td>\n",
              "    </tr>\n",
              "    <tr>\n",
              "      <th>...</th>\n",
              "      <td>...</td>\n",
              "      <td>...</td>\n",
              "      <td>...</td>\n",
              "      <td>...</td>\n",
              "      <td>...</td>\n",
              "      <td>...</td>\n",
              "      <td>...</td>\n",
              "      <td>...</td>\n",
              "      <td>...</td>\n",
              "      <td>...</td>\n",
              "      <td>...</td>\n",
              "      <td>...</td>\n",
              "      <td>...</td>\n",
              "      <td>...</td>\n",
              "      <td>...</td>\n",
              "      <td>...</td>\n",
              "      <td>...</td>\n",
              "      <td>...</td>\n",
              "      <td>...</td>\n",
              "    </tr>\n",
              "    <tr>\n",
              "      <th>193</th>\n",
              "      <td>J-Soul</td>\n",
              "      <td>Ride for Me</td>\n",
              "      <td>4BFCNjiYvViuDgF8qvWNqZ</td>\n",
              "      <td>28</td>\n",
              "      <td>0.399</td>\n",
              "      <td>0.565</td>\n",
              "      <td>1</td>\n",
              "      <td>-8.901</td>\n",
              "      <td>0</td>\n",
              "      <td>0.4510</td>\n",
              "      <td>0.243000</td>\n",
              "      <td>0.000002</td>\n",
              "      <td>0.1020</td>\n",
              "      <td>0.6000</td>\n",
              "      <td>200.295</td>\n",
              "      <td>spotify:track:4BFCNjiYvViuDgF8qvWNqZ</td>\n",
              "      <td>268774</td>\n",
              "      <td>3</td>\n",
              "      <td>4</td>\n",
              "    </tr>\n",
              "    <tr>\n",
              "      <th>194</th>\n",
              "      <td>Sad Puppy</td>\n",
              "      <td>Getting Higher</td>\n",
              "      <td>1QXKnnSbTlNJsehovOCz5X</td>\n",
              "      <td>37</td>\n",
              "      <td>0.663</td>\n",
              "      <td>0.914</td>\n",
              "      <td>5</td>\n",
              "      <td>-6.091</td>\n",
              "      <td>0</td>\n",
              "      <td>0.0642</td>\n",
              "      <td>0.022200</td>\n",
              "      <td>0.000023</td>\n",
              "      <td>0.1020</td>\n",
              "      <td>0.9190</td>\n",
              "      <td>123.977</td>\n",
              "      <td>spotify:track:1QXKnnSbTlNJsehovOCz5X</td>\n",
              "      <td>161855</td>\n",
              "      <td>4</td>\n",
              "      <td>4</td>\n",
              "    </tr>\n",
              "    <tr>\n",
              "      <th>195</th>\n",
              "      <td>yesterday</td>\n",
              "      <td>i hope you feel the same in the morning</td>\n",
              "      <td>3VB4hN65b00EOW3KYMQVWV</td>\n",
              "      <td>23</td>\n",
              "      <td>0.713</td>\n",
              "      <td>0.506</td>\n",
              "      <td>1</td>\n",
              "      <td>-9.404</td>\n",
              "      <td>0</td>\n",
              "      <td>0.1100</td>\n",
              "      <td>0.756000</td>\n",
              "      <td>0.000003</td>\n",
              "      <td>0.1050</td>\n",
              "      <td>0.3300</td>\n",
              "      <td>140.182</td>\n",
              "      <td>spotify:track:3VB4hN65b00EOW3KYMQVWV</td>\n",
              "      <td>251751</td>\n",
              "      <td>4</td>\n",
              "      <td>4</td>\n",
              "    </tr>\n",
              "    <tr>\n",
              "      <th>196</th>\n",
              "      <td>Lil Happy Lil Sad</td>\n",
              "      <td>Feel Low</td>\n",
              "      <td>3HvLIpY1lnhoj8aO4Pptde</td>\n",
              "      <td>30</td>\n",
              "      <td>0.702</td>\n",
              "      <td>0.163</td>\n",
              "      <td>9</td>\n",
              "      <td>-13.185</td>\n",
              "      <td>0</td>\n",
              "      <td>0.0303</td>\n",
              "      <td>0.860000</td>\n",
              "      <td>0.010600</td>\n",
              "      <td>0.1120</td>\n",
              "      <td>0.1500</td>\n",
              "      <td>103.036</td>\n",
              "      <td>spotify:track:3HvLIpY1lnhoj8aO4Pptde</td>\n",
              "      <td>269709</td>\n",
              "      <td>4</td>\n",
              "      <td>4</td>\n",
              "    </tr>\n",
              "    <tr>\n",
              "      <th>197</th>\n",
              "      <td>Uve Sad</td>\n",
              "      <td>Cielo Rojo</td>\n",
              "      <td>7eN39NG0xqJwTwRafITciL</td>\n",
              "      <td>43</td>\n",
              "      <td>0.794</td>\n",
              "      <td>0.676</td>\n",
              "      <td>1</td>\n",
              "      <td>-9.584</td>\n",
              "      <td>1</td>\n",
              "      <td>0.1130</td>\n",
              "      <td>0.037500</td>\n",
              "      <td>0.000000</td>\n",
              "      <td>0.0574</td>\n",
              "      <td>0.6680</td>\n",
              "      <td>160.005</td>\n",
              "      <td>spotify:track:7eN39NG0xqJwTwRafITciL</td>\n",
              "      <td>180463</td>\n",
              "      <td>4</td>\n",
              "      <td>4</td>\n",
              "    </tr>\n",
              "  </tbody>\n",
              "</table>\n",
              "<p>788 rows × 19 columns</p>\n",
              "</div>"
            ],
            "text/plain": [
              "           artist_name  ... label\n",
              "0     The Calm Factory  ...     1\n",
              "1     The Calm Factory  ...     1\n",
              "2     The Calm Factory  ...     1\n",
              "3     The Calm Factory  ...     1\n",
              "4       Sounds Of Calm  ...     1\n",
              "..                 ...  ...   ...\n",
              "193             J-Soul  ...     4\n",
              "194          Sad Puppy  ...     4\n",
              "195          yesterday  ...     4\n",
              "196  Lil Happy Lil Sad  ...     4\n",
              "197            Uve Sad  ...     4\n",
              "\n",
              "[788 rows x 19 columns]"
            ]
          },
          "metadata": {
            "tags": []
          },
          "execution_count": 51
        }
      ]
    },
    {
      "cell_type": "code",
      "metadata": {
        "id": "WtlVIAd0v7nB"
      },
      "source": [
        "df = df.sample(frac=1).reset_index(drop=True)"
      ],
      "execution_count": 53,
      "outputs": []
    },
    {
      "cell_type": "code",
      "metadata": {
        "colab": {
          "base_uri": "https://localhost:8080/",
          "height": 623
        },
        "id": "hLksNdavxjBS",
        "outputId": "1bcfe87c-163c-4089-ea7a-2ee3a59e3d40"
      },
      "source": [
        "df"
      ],
      "execution_count": 54,
      "outputs": [
        {
          "output_type": "execute_result",
          "data": {
            "text/html": [
              "<div>\n",
              "<style scoped>\n",
              "    .dataframe tbody tr th:only-of-type {\n",
              "        vertical-align: middle;\n",
              "    }\n",
              "\n",
              "    .dataframe tbody tr th {\n",
              "        vertical-align: top;\n",
              "    }\n",
              "\n",
              "    .dataframe thead th {\n",
              "        text-align: right;\n",
              "    }\n",
              "</style>\n",
              "<table border=\"1\" class=\"dataframe\">\n",
              "  <thead>\n",
              "    <tr style=\"text-align: right;\">\n",
              "      <th></th>\n",
              "      <th>artist_name</th>\n",
              "      <th>track_name</th>\n",
              "      <th>track_id</th>\n",
              "      <th>popularity</th>\n",
              "      <th>danceability</th>\n",
              "      <th>energy</th>\n",
              "      <th>key</th>\n",
              "      <th>loudness</th>\n",
              "      <th>mode</th>\n",
              "      <th>speechiness</th>\n",
              "      <th>acousticness</th>\n",
              "      <th>instrumentalness</th>\n",
              "      <th>liveness</th>\n",
              "      <th>valence</th>\n",
              "      <th>tempo</th>\n",
              "      <th>uri</th>\n",
              "      <th>duration_ms</th>\n",
              "      <th>time_signature</th>\n",
              "      <th>label</th>\n",
              "    </tr>\n",
              "  </thead>\n",
              "  <tbody>\n",
              "    <tr>\n",
              "      <th>0</th>\n",
              "      <td>How Sad</td>\n",
              "      <td>Hot Blur</td>\n",
              "      <td>08OTqB3xjsLa5EZb9Fu2Lw</td>\n",
              "      <td>41</td>\n",
              "      <td>0.683</td>\n",
              "      <td>0.8240</td>\n",
              "      <td>1</td>\n",
              "      <td>-8.569</td>\n",
              "      <td>0</td>\n",
              "      <td>0.2220</td>\n",
              "      <td>0.024900</td>\n",
              "      <td>0.627000</td>\n",
              "      <td>0.0533</td>\n",
              "      <td>0.9180</td>\n",
              "      <td>154.008</td>\n",
              "      <td>spotify:track:08OTqB3xjsLa5EZb9Fu2Lw</td>\n",
              "      <td>201049</td>\n",
              "      <td>4</td>\n",
              "      <td>4</td>\n",
              "    </tr>\n",
              "    <tr>\n",
              "      <th>1</th>\n",
              "      <td>Baby Wars</td>\n",
              "      <td>Anakin's Betrayal \"from Star Wars\" - Lullaby V...</td>\n",
              "      <td>4xirTNd21iFPlT3Vce3k5z</td>\n",
              "      <td>29</td>\n",
              "      <td>0.584</td>\n",
              "      <td>0.0985</td>\n",
              "      <td>9</td>\n",
              "      <td>-15.685</td>\n",
              "      <td>0</td>\n",
              "      <td>0.0353</td>\n",
              "      <td>0.993000</td>\n",
              "      <td>0.670000</td>\n",
              "      <td>0.0618</td>\n",
              "      <td>0.0707</td>\n",
              "      <td>84.982</td>\n",
              "      <td>spotify:track:4xirTNd21iFPlT3Vce3k5z</td>\n",
              "      <td>172384</td>\n",
              "      <td>4</td>\n",
              "      <td>3</td>\n",
              "    </tr>\n",
              "    <tr>\n",
              "      <th>2</th>\n",
              "      <td>Pepe Lienhard Orchestra</td>\n",
              "      <td>Stardust</td>\n",
              "      <td>3ImhKDH5fOrMreY0TUO2Xv</td>\n",
              "      <td>0</td>\n",
              "      <td>0.379</td>\n",
              "      <td>0.1970</td>\n",
              "      <td>3</td>\n",
              "      <td>-14.437</td>\n",
              "      <td>1</td>\n",
              "      <td>0.0270</td>\n",
              "      <td>0.831000</td>\n",
              "      <td>0.902000</td>\n",
              "      <td>0.1080</td>\n",
              "      <td>0.1190</td>\n",
              "      <td>63.561</td>\n",
              "      <td>spotify:track:3ImhKDH5fOrMreY0TUO2Xv</td>\n",
              "      <td>216333</td>\n",
              "      <td>4</td>\n",
              "      <td>2</td>\n",
              "    </tr>\n",
              "    <tr>\n",
              "      <th>3</th>\n",
              "      <td>The Happy Return</td>\n",
              "      <td>Lemonade</td>\n",
              "      <td>4NntR4wm7QBB8jtjNZPstP</td>\n",
              "      <td>33</td>\n",
              "      <td>0.512</td>\n",
              "      <td>0.7480</td>\n",
              "      <td>11</td>\n",
              "      <td>-5.940</td>\n",
              "      <td>1</td>\n",
              "      <td>0.0338</td>\n",
              "      <td>0.026600</td>\n",
              "      <td>0.001560</td>\n",
              "      <td>0.2030</td>\n",
              "      <td>0.2870</td>\n",
              "      <td>139.926</td>\n",
              "      <td>spotify:track:4NntR4wm7QBB8jtjNZPstP</td>\n",
              "      <td>208001</td>\n",
              "      <td>4</td>\n",
              "      <td>3</td>\n",
              "    </tr>\n",
              "    <tr>\n",
              "      <th>4</th>\n",
              "      <td>sad alex</td>\n",
              "      <td>new heartbreak</td>\n",
              "      <td>7as2G7f005jH4jNMI4UX8A</td>\n",
              "      <td>40</td>\n",
              "      <td>0.639</td>\n",
              "      <td>0.6750</td>\n",
              "      <td>2</td>\n",
              "      <td>-4.296</td>\n",
              "      <td>1</td>\n",
              "      <td>0.0658</td>\n",
              "      <td>0.007420</td>\n",
              "      <td>0.000294</td>\n",
              "      <td>0.3360</td>\n",
              "      <td>0.6290</td>\n",
              "      <td>155.940</td>\n",
              "      <td>spotify:track:7as2G7f005jH4jNMI4UX8A</td>\n",
              "      <td>194615</td>\n",
              "      <td>4</td>\n",
              "      <td>4</td>\n",
              "    </tr>\n",
              "    <tr>\n",
              "      <th>...</th>\n",
              "      <td>...</td>\n",
              "      <td>...</td>\n",
              "      <td>...</td>\n",
              "      <td>...</td>\n",
              "      <td>...</td>\n",
              "      <td>...</td>\n",
              "      <td>...</td>\n",
              "      <td>...</td>\n",
              "      <td>...</td>\n",
              "      <td>...</td>\n",
              "      <td>...</td>\n",
              "      <td>...</td>\n",
              "      <td>...</td>\n",
              "      <td>...</td>\n",
              "      <td>...</td>\n",
              "      <td>...</td>\n",
              "      <td>...</td>\n",
              "      <td>...</td>\n",
              "      <td>...</td>\n",
              "    </tr>\n",
              "    <tr>\n",
              "      <th>783</th>\n",
              "      <td>Calm Palm</td>\n",
              "      <td>Hit the Road</td>\n",
              "      <td>0jQDBBWNmLJk5fdIMg0Xfw</td>\n",
              "      <td>33</td>\n",
              "      <td>0.173</td>\n",
              "      <td>0.2750</td>\n",
              "      <td>1</td>\n",
              "      <td>-28.594</td>\n",
              "      <td>1</td>\n",
              "      <td>0.0609</td>\n",
              "      <td>0.098600</td>\n",
              "      <td>0.930000</td>\n",
              "      <td>0.1130</td>\n",
              "      <td>0.2550</td>\n",
              "      <td>106.176</td>\n",
              "      <td>spotify:track:0jQDBBWNmLJk5fdIMg0Xfw</td>\n",
              "      <td>60970</td>\n",
              "      <td>3</td>\n",
              "      <td>1</td>\n",
              "    </tr>\n",
              "    <tr>\n",
              "      <th>784</th>\n",
              "      <td>Funk D</td>\n",
              "      <td>Awesome - Original Mix</td>\n",
              "      <td>3vCGMW1g7ne7dpYF0dojMA</td>\n",
              "      <td>0</td>\n",
              "      <td>0.822</td>\n",
              "      <td>0.8110</td>\n",
              "      <td>4</td>\n",
              "      <td>-4.717</td>\n",
              "      <td>0</td>\n",
              "      <td>0.1090</td>\n",
              "      <td>0.000929</td>\n",
              "      <td>0.649000</td>\n",
              "      <td>0.3100</td>\n",
              "      <td>0.0987</td>\n",
              "      <td>128.001</td>\n",
              "      <td>spotify:track:3vCGMW1g7ne7dpYF0dojMA</td>\n",
              "      <td>319028</td>\n",
              "      <td>4</td>\n",
              "      <td>2</td>\n",
              "    </tr>\n",
              "    <tr>\n",
              "      <th>785</th>\n",
              "      <td>The Opposite of Sad</td>\n",
              "      <td>2 Days</td>\n",
              "      <td>3tE8NNNHTkj1X64TdnTufK</td>\n",
              "      <td>43</td>\n",
              "      <td>0.704</td>\n",
              "      <td>0.5820</td>\n",
              "      <td>11</td>\n",
              "      <td>-5.831</td>\n",
              "      <td>1</td>\n",
              "      <td>0.0577</td>\n",
              "      <td>0.665000</td>\n",
              "      <td>0.000000</td>\n",
              "      <td>0.1640</td>\n",
              "      <td>0.4920</td>\n",
              "      <td>137.042</td>\n",
              "      <td>spotify:track:3tE8NNNHTkj1X64TdnTufK</td>\n",
              "      <td>170551</td>\n",
              "      <td>4</td>\n",
              "      <td>4</td>\n",
              "    </tr>\n",
              "    <tr>\n",
              "      <th>786</th>\n",
              "      <td>Energetic</td>\n",
              "      <td>Stronger Now</td>\n",
              "      <td>4W1OCj5NynJKEHosO9Piru</td>\n",
              "      <td>1</td>\n",
              "      <td>0.439</td>\n",
              "      <td>0.5540</td>\n",
              "      <td>9</td>\n",
              "      <td>-14.935</td>\n",
              "      <td>0</td>\n",
              "      <td>0.0523</td>\n",
              "      <td>0.036500</td>\n",
              "      <td>0.003730</td>\n",
              "      <td>0.1060</td>\n",
              "      <td>0.1290</td>\n",
              "      <td>160.018</td>\n",
              "      <td>spotify:track:4W1OCj5NynJKEHosO9Piru</td>\n",
              "      <td>258000</td>\n",
              "      <td>4</td>\n",
              "      <td>2</td>\n",
              "    </tr>\n",
              "    <tr>\n",
              "      <th>787</th>\n",
              "      <td>sad face.</td>\n",
              "      <td>one day</td>\n",
              "      <td>24YbcvZbwF5nKO6hmys9J8</td>\n",
              "      <td>37</td>\n",
              "      <td>0.631</td>\n",
              "      <td>0.4150</td>\n",
              "      <td>4</td>\n",
              "      <td>-8.112</td>\n",
              "      <td>1</td>\n",
              "      <td>0.0572</td>\n",
              "      <td>0.848000</td>\n",
              "      <td>0.181000</td>\n",
              "      <td>0.1360</td>\n",
              "      <td>0.2210</td>\n",
              "      <td>152.991</td>\n",
              "      <td>spotify:track:24YbcvZbwF5nKO6hmys9J8</td>\n",
              "      <td>176246</td>\n",
              "      <td>4</td>\n",
              "      <td>4</td>\n",
              "    </tr>\n",
              "  </tbody>\n",
              "</table>\n",
              "<p>788 rows × 19 columns</p>\n",
              "</div>"
            ],
            "text/plain": [
              "                 artist_name  ... label\n",
              "0                    How Sad  ...     4\n",
              "1                  Baby Wars  ...     3\n",
              "2    Pepe Lienhard Orchestra  ...     2\n",
              "3           The Happy Return  ...     3\n",
              "4                   sad alex  ...     4\n",
              "..                       ...  ...   ...\n",
              "783                Calm Palm  ...     1\n",
              "784                   Funk D  ...     2\n",
              "785      The Opposite of Sad  ...     4\n",
              "786                Energetic  ...     2\n",
              "787                sad face.  ...     4\n",
              "\n",
              "[788 rows x 19 columns]"
            ]
          },
          "metadata": {
            "tags": []
          },
          "execution_count": 54
        }
      ]
    },
    {
      "cell_type": "code",
      "metadata": {
        "id": "2XPCnRrSXSwI"
      },
      "source": [
        "# creating the training and test sets\n",
        "\n",
        "n_all = len(df)\n",
        "n_train = int(0.8 * n_all)\n",
        "n_test = n_all - n_train\n",
        "rng = torch.Generator().manual_seed(1549)\n",
        "dataset_train, dataset_test = torch.utils.data.random_split(df, [n_train, n_test], rng)"
      ],
      "execution_count": 60,
      "outputs": []
    },
    {
      "cell_type": "code",
      "metadata": {
        "colab": {
          "base_uri": "https://localhost:8080/"
        },
        "id": "o7fg2ca8yJ8Q",
        "outputId": "1287d385-70aa-4cc6-f2a0-716d87f0c1fb"
      },
      "source": [
        "len(dataset_test)"
      ],
      "execution_count": 61,
      "outputs": [
        {
          "output_type": "execute_result",
          "data": {
            "text/plain": [
              "158"
            ]
          },
          "metadata": {
            "tags": []
          },
          "execution_count": 61
        }
      ]
    },
    {
      "cell_type": "code",
      "metadata": {
        "colab": {
          "base_uri": "https://localhost:8080/"
        },
        "id": "KWOyEh9ByNX2",
        "outputId": "935dec5a-364f-4e74-ff31-17e971b558a3"
      },
      "source": [
        "len(dataset_train)"
      ],
      "execution_count": 62,
      "outputs": [
        {
          "output_type": "execute_result",
          "data": {
            "text/plain": [
              "630"
            ]
          },
          "metadata": {
            "tags": []
          },
          "execution_count": 62
        }
      ]
    }
  ]
}
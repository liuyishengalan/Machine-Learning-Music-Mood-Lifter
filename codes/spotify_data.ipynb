{
  "nbformat": 4,
  "nbformat_minor": 0,
  "metadata": {
    "colab": {
      "name": "FINAL PROJECT 291",
      "provenance": [],
      "collapsed_sections": []
    },
    "kernelspec": {
      "name": "python3",
      "display_name": "Python 3"
    },
    "language_info": {
      "name": "python"
    }
  },
  "cells": [
    {
      "cell_type": "code",
      "metadata": {
        "colab": {
          "base_uri": "https://localhost:8080/"
        },
        "id": "RBobrGwkOH34",
        "outputId": "62ee7ee9-ccd6-41e7-9ecf-3673d55efa69"
      },
      "source": [
        "pip install spotipy "
      ],
      "execution_count": 1,
      "outputs": [
        {
          "output_type": "stream",
          "text": [
            "Collecting spotipy\n",
            "  Downloading https://files.pythonhosted.org/packages/fb/69/21f1ccc881438bdfa1056ea131b6ac2b1cfbe656cf3676b6167d3cbc4d69/spotipy-2.17.1-py3-none-any.whl\n",
            "Requirement already satisfied: six>=1.15.0 in /usr/local/lib/python3.7/dist-packages (from spotipy) (1.15.0)\n",
            "Collecting requests>=2.25.0\n",
            "\u001b[?25l  Downloading https://files.pythonhosted.org/packages/29/c1/24814557f1d22c56d50280771a17307e6bf87b70727d975fd6b2ce6b014a/requests-2.25.1-py2.py3-none-any.whl (61kB)\n",
            "\u001b[K     |████████████████████████████████| 61kB 3.7MB/s \n",
            "\u001b[?25hCollecting urllib3>=1.26.0\n",
            "\u001b[?25l  Downloading https://files.pythonhosted.org/packages/09/c6/d3e3abe5b4f4f16cf0dfc9240ab7ce10c2baa0e268989a4e3ec19e90c84e/urllib3-1.26.4-py2.py3-none-any.whl (153kB)\n",
            "\u001b[K     |████████████████████████████████| 153kB 24.3MB/s \n",
            "\u001b[?25hRequirement already satisfied: idna<3,>=2.5 in /usr/local/lib/python3.7/dist-packages (from requests>=2.25.0->spotipy) (2.10)\n",
            "Requirement already satisfied: certifi>=2017.4.17 in /usr/local/lib/python3.7/dist-packages (from requests>=2.25.0->spotipy) (2020.12.5)\n",
            "Requirement already satisfied: chardet<5,>=3.0.2 in /usr/local/lib/python3.7/dist-packages (from requests>=2.25.0->spotipy) (3.0.4)\n",
            "\u001b[31mERROR: google-colab 1.0.0 has requirement requests~=2.23.0, but you'll have requests 2.25.1 which is incompatible.\u001b[0m\n",
            "\u001b[31mERROR: datascience 0.10.6 has requirement folium==0.2.1, but you'll have folium 0.8.3 which is incompatible.\u001b[0m\n",
            "Installing collected packages: urllib3, requests, spotipy\n",
            "  Found existing installation: urllib3 1.24.3\n",
            "    Uninstalling urllib3-1.24.3:\n",
            "      Successfully uninstalled urllib3-1.24.3\n",
            "  Found existing installation: requests 2.23.0\n",
            "    Uninstalling requests-2.23.0:\n",
            "      Successfully uninstalled requests-2.23.0\n",
            "Successfully installed requests-2.25.1 spotipy-2.17.1 urllib3-1.26.4\n"
          ],
          "name": "stdout"
        }
      ]
    },
    {
      "cell_type": "code",
      "metadata": {
        "id": "HWVaNcdds96B"
      },
      "source": [
        "import spotipy\n",
        "from spotipy.oauth2 import SpotifyClientCredentials\n",
        "\n",
        "cid =\"a006ea8174bc4689b4eb39c47b5449a1\" \n",
        "secret = \"1cca3d1fff6145fdaee72ba822e8b586\" \n",
        "\n",
        "client_credentials_manager = SpotifyClientCredentials(client_id=cid, client_secret=secret)\n",
        "sp = spotipy.Spotify(client_credentials_manager=client_credentials_manager)"
      ],
      "execution_count": 2,
      "outputs": []
    },
    {
      "cell_type": "code",
      "metadata": {
        "id": "eHNeHlar6J9p"
      },
      "source": [
        "import timeit\n",
        "import pandas as pd\n",
        "import torch"
      ],
      "execution_count": 3,
      "outputs": []
    },
    {
      "cell_type": "code",
      "metadata": {
        "id": "FV7U6BxZ6Nn0"
      },
      "source": [
        "def getTracks(query, number):\n",
        "  start = timeit.default_timer()\n",
        "\n",
        "  # create empty lists where the results are going to be stored\n",
        "  artist_name = []\n",
        "  track_name = []\n",
        "  popularity = []\n",
        "  track_id = []\n",
        "\n",
        "  for i in range(0,number,10):\n",
        "      track_results = sp.search(q=query, type='track', limit=10,offset=i)\n",
        "      for i, t in enumerate(track_results['tracks']['items']):\n",
        "          artist_name.append(t['artists'][0]['name'])\n",
        "          track_name.append(t['name'])\n",
        "          track_id.append(t['id'])\n",
        "          popularity.append(t['popularity'])\n",
        "        \n",
        "\n",
        "  stop = timeit.default_timer()\n",
        "  print ('Time to run this code (in seconds):', stop - start)\n",
        "  df_tracks = pd.DataFrame({'artist_name':artist_name,'track_name':track_name,'track_id':track_id,'popularity':popularity})\n",
        "  return df_tracks"
      ],
      "execution_count": 4,
      "outputs": []
    },
    {
      "cell_type": "code",
      "metadata": {
        "colab": {
          "base_uri": "https://localhost:8080/"
        },
        "id": "Hly5TgIs7Y4A",
        "outputId": "47dd6ead-e07f-43e9-8117-8056978be8c4"
      },
      "source": [
        "df_calm_tracks = getTracks('label:calm',300)"
      ],
      "execution_count": 57,
      "outputs": [
        {
          "output_type": "stream",
          "text": [
            "Time to run this code (in seconds): 1.3527960510000412\n"
          ],
          "name": "stdout"
        }
      ]
    },
    {
      "cell_type": "code",
      "metadata": {
        "colab": {
          "base_uri": "https://localhost:8080/",
          "height": 212
        },
        "id": "c6sOFLky7mrI",
        "outputId": "1b6be17e-5f0c-4f4f-f5db-1793d80b93ff"
      },
      "source": [
        "print(df_calm_tracks.shape)\n",
        "df_calm_tracks.head()"
      ],
      "execution_count": 58,
      "outputs": [
        {
          "output_type": "stream",
          "text": [
            "(300, 4)\n"
          ],
          "name": "stdout"
        },
        {
          "output_type": "execute_result",
          "data": {
            "text/html": [
              "<div>\n",
              "<style scoped>\n",
              "    .dataframe tbody tr th:only-of-type {\n",
              "        vertical-align: middle;\n",
              "    }\n",
              "\n",
              "    .dataframe tbody tr th {\n",
              "        vertical-align: top;\n",
              "    }\n",
              "\n",
              "    .dataframe thead th {\n",
              "        text-align: right;\n",
              "    }\n",
              "</style>\n",
              "<table border=\"1\" class=\"dataframe\">\n",
              "  <thead>\n",
              "    <tr style=\"text-align: right;\">\n",
              "      <th></th>\n",
              "      <th>artist_name</th>\n",
              "      <th>track_name</th>\n",
              "      <th>track_id</th>\n",
              "      <th>popularity</th>\n",
              "    </tr>\n",
              "  </thead>\n",
              "  <tbody>\n",
              "    <tr>\n",
              "      <th>0</th>\n",
              "      <td>The Calm Factory</td>\n",
              "      <td>Forest Thunderstorm</td>\n",
              "      <td>3NTAcEKTrL3yHnEzBklXcN</td>\n",
              "      <td>63</td>\n",
              "    </tr>\n",
              "    <tr>\n",
              "      <th>1</th>\n",
              "      <td>The Calm Factory</td>\n",
              "      <td>Calm Before The Storm</td>\n",
              "      <td>69mYHeNk3DSNIRBUCLCFZI</td>\n",
              "      <td>60</td>\n",
              "    </tr>\n",
              "    <tr>\n",
              "      <th>2</th>\n",
              "      <td>The Calm Factory</td>\n",
              "      <td>Rain For Relaxation</td>\n",
              "      <td>5WAqDgplhuoFBG4IUdEP4J</td>\n",
              "      <td>59</td>\n",
              "    </tr>\n",
              "    <tr>\n",
              "      <th>3</th>\n",
              "      <td>The Calm Factory</td>\n",
              "      <td>Chuva soa para dormir</td>\n",
              "      <td>5sMzZKg6SLtG5lcudEpDLC</td>\n",
              "      <td>58</td>\n",
              "    </tr>\n",
              "    <tr>\n",
              "      <th>4</th>\n",
              "      <td>Sounds Of Calm</td>\n",
              "      <td>Small River On Rocks</td>\n",
              "      <td>1iwAjsOxILo4p6uOZLD0Fa</td>\n",
              "      <td>47</td>\n",
              "    </tr>\n",
              "  </tbody>\n",
              "</table>\n",
              "</div>"
            ],
            "text/plain": [
              "        artist_name             track_name                track_id  popularity\n",
              "0  The Calm Factory    Forest Thunderstorm  3NTAcEKTrL3yHnEzBklXcN          63\n",
              "1  The Calm Factory  Calm Before The Storm  69mYHeNk3DSNIRBUCLCFZI          60\n",
              "2  The Calm Factory    Rain For Relaxation  5WAqDgplhuoFBG4IUdEP4J          59\n",
              "3  The Calm Factory  Chuva soa para dormir  5sMzZKg6SLtG5lcudEpDLC          58\n",
              "4    Sounds Of Calm   Small River On Rocks  1iwAjsOxILo4p6uOZLD0Fa          47"
            ]
          },
          "metadata": {
            "tags": []
          },
          "execution_count": 58
        }
      ]
    },
    {
      "cell_type": "code",
      "metadata": {
        "colab": {
          "base_uri": "https://localhost:8080/"
        },
        "id": "w73dpk1u7rbS",
        "outputId": "9bfe0986-dcba-4e58-a84e-ba6babf06ff4"
      },
      "source": [
        "df_energetic_tracks = getTracks('label:energetic',300)"
      ],
      "execution_count": 59,
      "outputs": [
        {
          "output_type": "stream",
          "text": [
            "Time to run this code (in seconds): 1.367311993000044\n"
          ],
          "name": "stdout"
        }
      ]
    },
    {
      "cell_type": "code",
      "metadata": {
        "colab": {
          "base_uri": "https://localhost:8080/",
          "height": 212
        },
        "id": "GVmT2rxG72dv",
        "outputId": "31af1454-7af5-426e-8cf0-784f56ea94d3"
      },
      "source": [
        "print(df_energetic_tracks.shape)\n",
        "df_energetic_tracks.head()"
      ],
      "execution_count": 60,
      "outputs": [
        {
          "output_type": "stream",
          "text": [
            "(300, 4)\n"
          ],
          "name": "stdout"
        },
        {
          "output_type": "execute_result",
          "data": {
            "text/html": [
              "<div>\n",
              "<style scoped>\n",
              "    .dataframe tbody tr th:only-of-type {\n",
              "        vertical-align: middle;\n",
              "    }\n",
              "\n",
              "    .dataframe tbody tr th {\n",
              "        vertical-align: top;\n",
              "    }\n",
              "\n",
              "    .dataframe thead th {\n",
              "        text-align: right;\n",
              "    }\n",
              "</style>\n",
              "<table border=\"1\" class=\"dataframe\">\n",
              "  <thead>\n",
              "    <tr style=\"text-align: right;\">\n",
              "      <th></th>\n",
              "      <th>artist_name</th>\n",
              "      <th>track_name</th>\n",
              "      <th>track_id</th>\n",
              "      <th>popularity</th>\n",
              "    </tr>\n",
              "  </thead>\n",
              "  <tbody>\n",
              "    <tr>\n",
              "      <th>0</th>\n",
              "      <td>Lil Key</td>\n",
              "      <td>Crazy (feat. J.I. &amp; D Low)</td>\n",
              "      <td>5XgfOmcWvkXTDmOfO81NRP</td>\n",
              "      <td>14</td>\n",
              "    </tr>\n",
              "    <tr>\n",
              "      <th>1</th>\n",
              "      <td>Energetic Alchemy</td>\n",
              "      <td>The Lovers</td>\n",
              "      <td>6cVj2hWi6hDovzI6fjWH3N</td>\n",
              "      <td>9</td>\n",
              "    </tr>\n",
              "    <tr>\n",
              "      <th>2</th>\n",
              "      <td>Sharon Hart</td>\n",
              "      <td>Near Reject Pick</td>\n",
              "      <td>3d0t8krXtXnNsCPXruNWqR</td>\n",
              "      <td>9</td>\n",
              "    </tr>\n",
              "    <tr>\n",
              "      <th>3</th>\n",
              "      <td>Kasperli</td>\n",
              "      <td>De Seegeischt im Führwehrweiher - Teil 10</td>\n",
              "      <td>1dkMVDHOBz2r171zApCVdr</td>\n",
              "      <td>10</td>\n",
              "    </tr>\n",
              "    <tr>\n",
              "      <th>4</th>\n",
              "      <td>Kasperli</td>\n",
              "      <td>De Seegeischt im Führwehrweiher - Teil 9</td>\n",
              "      <td>4vlFuPLQFmhMsw2u75PXuJ</td>\n",
              "      <td>10</td>\n",
              "    </tr>\n",
              "  </tbody>\n",
              "</table>\n",
              "</div>"
            ],
            "text/plain": [
              "         artist_name  ... popularity\n",
              "0            Lil Key  ...         14\n",
              "1  Energetic Alchemy  ...          9\n",
              "2        Sharon Hart  ...          9\n",
              "3           Kasperli  ...         10\n",
              "4           Kasperli  ...         10\n",
              "\n",
              "[5 rows x 4 columns]"
            ]
          },
          "metadata": {
            "tags": []
          },
          "execution_count": 60
        }
      ]
    },
    {
      "cell_type": "code",
      "metadata": {
        "colab": {
          "base_uri": "https://localhost:8080/"
        },
        "id": "jOaa-2NQ7-Ls",
        "outputId": "fdeda838-42e3-460f-cfab-1b2c53707300"
      },
      "source": [
        "df_happy_tracks = getTracks('label:happy',300)"
      ],
      "execution_count": 61,
      "outputs": [
        {
          "output_type": "stream",
          "text": [
            "Time to run this code (in seconds): 1.2082732349999787\n"
          ],
          "name": "stdout"
        }
      ]
    },
    {
      "cell_type": "code",
      "metadata": {
        "colab": {
          "base_uri": "https://localhost:8080/",
          "height": 212
        },
        "id": "RqKP9gUI8HxQ",
        "outputId": "93dff2f9-5ac0-4924-ab46-7e4f75752454"
      },
      "source": [
        "print(df_happy_tracks.shape)\n",
        "df_happy_tracks.head()"
      ],
      "execution_count": 62,
      "outputs": [
        {
          "output_type": "stream",
          "text": [
            "(300, 4)\n"
          ],
          "name": "stdout"
        },
        {
          "output_type": "execute_result",
          "data": {
            "text/html": [
              "<div>\n",
              "<style scoped>\n",
              "    .dataframe tbody tr th:only-of-type {\n",
              "        vertical-align: middle;\n",
              "    }\n",
              "\n",
              "    .dataframe tbody tr th {\n",
              "        vertical-align: top;\n",
              "    }\n",
              "\n",
              "    .dataframe thead th {\n",
              "        text-align: right;\n",
              "    }\n",
              "</style>\n",
              "<table border=\"1\" class=\"dataframe\">\n",
              "  <thead>\n",
              "    <tr style=\"text-align: right;\">\n",
              "      <th></th>\n",
              "      <th>artist_name</th>\n",
              "      <th>track_name</th>\n",
              "      <th>track_id</th>\n",
              "      <th>popularity</th>\n",
              "    </tr>\n",
              "  </thead>\n",
              "  <tbody>\n",
              "    <tr>\n",
              "      <th>0</th>\n",
              "      <td>L.B. One</td>\n",
              "      <td>My Mother Told Me - Vikings Anthem</td>\n",
              "      <td>6pAzrdqZKo4AnRWDKStG7R</td>\n",
              "      <td>65</td>\n",
              "    </tr>\n",
              "    <tr>\n",
              "      <th>1</th>\n",
              "      <td>The Happy Fits</td>\n",
              "      <td>Too Late</td>\n",
              "      <td>3LbO439QNr3IX7Ho39Fq8X</td>\n",
              "      <td>59</td>\n",
              "    </tr>\n",
              "    <tr>\n",
              "      <th>2</th>\n",
              "      <td>Lil Happy Lil Sad</td>\n",
              "      <td>Let Me Die</td>\n",
              "      <td>46T7puWlH8ptC6lx7bQ3TY</td>\n",
              "      <td>66</td>\n",
              "    </tr>\n",
              "    <tr>\n",
              "      <th>3</th>\n",
              "      <td>The Happy Fits</td>\n",
              "      <td>Dirty Imbecile</td>\n",
              "      <td>5erGUceK8ieHWtTXdnGP65</td>\n",
              "      <td>57</td>\n",
              "    </tr>\n",
              "    <tr>\n",
              "      <th>4</th>\n",
              "      <td>Sad Frosty</td>\n",
              "      <td>Beavis &amp; Butt-head</td>\n",
              "      <td>0Y9kRbsQKC9zSmfzxPgYiT</td>\n",
              "      <td>56</td>\n",
              "    </tr>\n",
              "  </tbody>\n",
              "</table>\n",
              "</div>"
            ],
            "text/plain": [
              "         artist_name  ... popularity\n",
              "0           L.B. One  ...         65\n",
              "1     The Happy Fits  ...         59\n",
              "2  Lil Happy Lil Sad  ...         66\n",
              "3     The Happy Fits  ...         57\n",
              "4         Sad Frosty  ...         56\n",
              "\n",
              "[5 rows x 4 columns]"
            ]
          },
          "metadata": {
            "tags": []
          },
          "execution_count": 62
        }
      ]
    },
    {
      "cell_type": "code",
      "metadata": {
        "colab": {
          "base_uri": "https://localhost:8080/"
        },
        "id": "BZRvX-yd8Pr-",
        "outputId": "7ca84446-f072-487b-f66b-d97b31d71b7d"
      },
      "source": [
        "df_sad_tracks = getTracks('label:sad',300)"
      ],
      "execution_count": 63,
      "outputs": [
        {
          "output_type": "stream",
          "text": [
            "Time to run this code (in seconds): 1.369971185000054\n"
          ],
          "name": "stdout"
        }
      ]
    },
    {
      "cell_type": "code",
      "metadata": {
        "colab": {
          "base_uri": "https://localhost:8080/",
          "height": 212
        },
        "id": "-FTax_9O8Vb7",
        "outputId": "654d2f55-217b-41dc-83f1-273e0712bb06"
      },
      "source": [
        "print(df_sad_tracks.shape)\n",
        "df_sad_tracks.head()"
      ],
      "execution_count": 64,
      "outputs": [
        {
          "output_type": "stream",
          "text": [
            "(300, 4)\n"
          ],
          "name": "stdout"
        },
        {
          "output_type": "execute_result",
          "data": {
            "text/html": [
              "<div>\n",
              "<style scoped>\n",
              "    .dataframe tbody tr th:only-of-type {\n",
              "        vertical-align: middle;\n",
              "    }\n",
              "\n",
              "    .dataframe tbody tr th {\n",
              "        vertical-align: top;\n",
              "    }\n",
              "\n",
              "    .dataframe thead th {\n",
              "        text-align: right;\n",
              "    }\n",
              "</style>\n",
              "<table border=\"1\" class=\"dataframe\">\n",
              "  <thead>\n",
              "    <tr style=\"text-align: right;\">\n",
              "      <th></th>\n",
              "      <th>artist_name</th>\n",
              "      <th>track_name</th>\n",
              "      <th>track_id</th>\n",
              "      <th>popularity</th>\n",
              "    </tr>\n",
              "  </thead>\n",
              "  <tbody>\n",
              "    <tr>\n",
              "      <th>0</th>\n",
              "      <td>Lil Happy Lil Sad</td>\n",
              "      <td>Let Me Die</td>\n",
              "      <td>46T7puWlH8ptC6lx7bQ3TY</td>\n",
              "      <td>66</td>\n",
              "    </tr>\n",
              "    <tr>\n",
              "      <th>1</th>\n",
              "      <td>Sad Monologue</td>\n",
              "      <td>Cabin Jam</td>\n",
              "      <td>3McFNMvwAOUOCM83wyTpUr</td>\n",
              "      <td>59</td>\n",
              "    </tr>\n",
              "    <tr>\n",
              "      <th>2</th>\n",
              "      <td>The Licks</td>\n",
              "      <td>Lavender Kiss</td>\n",
              "      <td>70oY6gKgHfMlVLVxFROeiA</td>\n",
              "      <td>57</td>\n",
              "    </tr>\n",
              "    <tr>\n",
              "      <th>3</th>\n",
              "      <td>Ramiro sad</td>\n",
              "      <td>Abismo</td>\n",
              "      <td>0WeBxkwIGnnoPAPNsnfEAd</td>\n",
              "      <td>50</td>\n",
              "    </tr>\n",
              "    <tr>\n",
              "      <th>4</th>\n",
              "      <td>Sad Ul</td>\n",
              "      <td>Wasteland Worry</td>\n",
              "      <td>0YsE50FuGtzivL2t8CeG9h</td>\n",
              "      <td>44</td>\n",
              "    </tr>\n",
              "  </tbody>\n",
              "</table>\n",
              "</div>"
            ],
            "text/plain": [
              "         artist_name       track_name                track_id  popularity\n",
              "0  Lil Happy Lil Sad       Let Me Die  46T7puWlH8ptC6lx7bQ3TY          66\n",
              "1      Sad Monologue        Cabin Jam  3McFNMvwAOUOCM83wyTpUr          59\n",
              "2          The Licks    Lavender Kiss  70oY6gKgHfMlVLVxFROeiA          57\n",
              "3         Ramiro sad           Abismo  0WeBxkwIGnnoPAPNsnfEAd          50\n",
              "4             Sad Ul  Wasteland Worry  0YsE50FuGtzivL2t8CeG9h          44"
            ]
          },
          "metadata": {
            "tags": []
          },
          "execution_count": 64
        }
      ]
    },
    {
      "cell_type": "code",
      "metadata": {
        "id": "ck7R0vmI8ZjZ"
      },
      "source": [
        "def cleanDuplicates(tracks):\n",
        "  grouped = tracks.groupby(['artist_name','track_name'], as_index=True).size()\n",
        "  grouped[grouped > 1].count()\n",
        "  tracks.drop_duplicates(subset=['artist_name','track_name'], inplace=True)\n",
        "  "
      ],
      "execution_count": 13,
      "outputs": []
    },
    {
      "cell_type": "code",
      "metadata": {
        "id": "O-UP-mYy9CBs"
      },
      "source": [
        "cleanDuplicates(df_calm_tracks)"
      ],
      "execution_count": 65,
      "outputs": []
    },
    {
      "cell_type": "code",
      "metadata": {
        "colab": {
          "base_uri": "https://localhost:8080/"
        },
        "id": "OfF-itHU9Fl7",
        "outputId": "27f6631b-4a34-4ae6-de31-0c873592c1ad"
      },
      "source": [
        "grouped_after_dropping = df_calm_tracks.groupby(['artist_name','track_name'], as_index=True).size()\n",
        "grouped_after_dropping[grouped_after_dropping > 1].count()"
      ],
      "execution_count": 66,
      "outputs": [
        {
          "output_type": "execute_result",
          "data": {
            "text/plain": [
              "0"
            ]
          },
          "metadata": {
            "tags": []
          },
          "execution_count": 66
        }
      ]
    },
    {
      "cell_type": "code",
      "metadata": {
        "id": "agytF4D59LFq"
      },
      "source": [
        "cleanDuplicates(df_energetic_tracks)\n",
        "cleanDuplicates(df_happy_tracks)\n",
        "cleanDuplicates(df_sad_tracks)"
      ],
      "execution_count": 67,
      "outputs": []
    },
    {
      "cell_type": "code",
      "metadata": {
        "colab": {
          "base_uri": "https://localhost:8080/"
        },
        "id": "xdtEP5-p9Whc",
        "outputId": "b72f2692-c91c-4deb-87d7-e4ba7471a649"
      },
      "source": [
        "grouped_after_dropping = df_energetic_tracks.groupby(['artist_name','track_name'], as_index=True).size()\n",
        "grouped_after_dropping[grouped_after_dropping > 1].count()"
      ],
      "execution_count": 68,
      "outputs": [
        {
          "output_type": "execute_result",
          "data": {
            "text/plain": [
              "0"
            ]
          },
          "metadata": {
            "tags": []
          },
          "execution_count": 68
        }
      ]
    },
    {
      "cell_type": "code",
      "metadata": {
        "colab": {
          "base_uri": "https://localhost:8080/"
        },
        "id": "fMBv-DGZ_fVW",
        "outputId": "95b62a86-1a41-4c2a-faf4-a835328cb606"
      },
      "source": [
        "grouped_after_dropping = df_sad_tracks.groupby(['artist_name','track_name'], as_index=True).size()\n",
        "grouped_after_dropping[grouped_after_dropping > 1].count()"
      ],
      "execution_count": 69,
      "outputs": [
        {
          "output_type": "execute_result",
          "data": {
            "text/plain": [
              "0"
            ]
          },
          "metadata": {
            "tags": []
          },
          "execution_count": 69
        }
      ]
    },
    {
      "cell_type": "code",
      "metadata": {
        "id": "t4ZKl1xB9cFY"
      },
      "source": [
        "def getAudioFeatures(tracks):\n",
        "  # again measuring the time\n",
        "  start = timeit.default_timer()\n",
        "\n",
        "  # empty list, batchsize and the counter for None results\n",
        "  rows = []\n",
        "  batchsize = 100\n",
        "  None_counter = 0\n",
        "\n",
        "  for i in range(0,len(tracks['track_id']),batchsize):\n",
        "      batch = tracks['track_id'][i:i+batchsize]\n",
        "      feature_results = sp.audio_features(batch)\n",
        "      for i, t in enumerate(feature_results):\n",
        "          if t == None:\n",
        "              None_counter = None_counter + 1\n",
        "          else:\n",
        "              rows.append(t)\n",
        "              \n",
        "  print('Number of tracks where no audio features were available:',None_counter)\n",
        "\n",
        "  stop = timeit.default_timer()\n",
        "  print ('Time to run this code (in seconds):',stop - start)\n",
        "  df_audio_features = pd.DataFrame.from_dict(rows,orient='columns')\n",
        "  return df_audio_features"
      ],
      "execution_count": 19,
      "outputs": []
    },
    {
      "cell_type": "code",
      "metadata": {
        "colab": {
          "base_uri": "https://localhost:8080/"
        },
        "id": "-JcjfctQ-ArG",
        "outputId": "b7d241c7-22da-42c8-cfe8-97994f0474e0"
      },
      "source": [
        "df_calm_audio_features = getAudioFeatures(df_calm_tracks)"
      ],
      "execution_count": 70,
      "outputs": [
        {
          "output_type": "stream",
          "text": [
            "Number of tracks where no audio features were available: 8\n",
            "Time to run this code (in seconds): 0.5055865629999516\n"
          ],
          "name": "stdout"
        }
      ]
    },
    {
      "cell_type": "code",
      "metadata": {
        "colab": {
          "base_uri": "https://localhost:8080/",
          "height": 316
        },
        "id": "mXceD5V_-G9N",
        "outputId": "24001c97-7c75-4282-b0ed-a756040b29b8"
      },
      "source": [
        "print(\"Shape of the dataset:\", df_calm_audio_features.shape)\n",
        "df_calm_audio_features.head()"
      ],
      "execution_count": 71,
      "outputs": [
        {
          "output_type": "stream",
          "text": [
            "Shape of the dataset: (286, 18)\n"
          ],
          "name": "stdout"
        },
        {
          "output_type": "execute_result",
          "data": {
            "text/html": [
              "<div>\n",
              "<style scoped>\n",
              "    .dataframe tbody tr th:only-of-type {\n",
              "        vertical-align: middle;\n",
              "    }\n",
              "\n",
              "    .dataframe tbody tr th {\n",
              "        vertical-align: top;\n",
              "    }\n",
              "\n",
              "    .dataframe thead th {\n",
              "        text-align: right;\n",
              "    }\n",
              "</style>\n",
              "<table border=\"1\" class=\"dataframe\">\n",
              "  <thead>\n",
              "    <tr style=\"text-align: right;\">\n",
              "      <th></th>\n",
              "      <th>danceability</th>\n",
              "      <th>energy</th>\n",
              "      <th>key</th>\n",
              "      <th>loudness</th>\n",
              "      <th>mode</th>\n",
              "      <th>speechiness</th>\n",
              "      <th>acousticness</th>\n",
              "      <th>instrumentalness</th>\n",
              "      <th>liveness</th>\n",
              "      <th>valence</th>\n",
              "      <th>tempo</th>\n",
              "      <th>type</th>\n",
              "      <th>id</th>\n",
              "      <th>uri</th>\n",
              "      <th>track_href</th>\n",
              "      <th>analysis_url</th>\n",
              "      <th>duration_ms</th>\n",
              "      <th>time_signature</th>\n",
              "    </tr>\n",
              "  </thead>\n",
              "  <tbody>\n",
              "    <tr>\n",
              "      <th>0</th>\n",
              "      <td>0.142</td>\n",
              "      <td>0.516</td>\n",
              "      <td>1</td>\n",
              "      <td>-25.856</td>\n",
              "      <td>1</td>\n",
              "      <td>0.0694</td>\n",
              "      <td>0.730000</td>\n",
              "      <td>0.944</td>\n",
              "      <td>0.223</td>\n",
              "      <td>0.0263</td>\n",
              "      <td>88.277</td>\n",
              "      <td>audio_features</td>\n",
              "      <td>3NTAcEKTrL3yHnEzBklXcN</td>\n",
              "      <td>spotify:track:3NTAcEKTrL3yHnEzBklXcN</td>\n",
              "      <td>https://api.spotify.com/v1/tracks/3NTAcEKTrL3y...</td>\n",
              "      <td>https://api.spotify.com/v1/audio-analysis/3NTA...</td>\n",
              "      <td>179972</td>\n",
              "      <td>4</td>\n",
              "    </tr>\n",
              "    <tr>\n",
              "      <th>1</th>\n",
              "      <td>0.142</td>\n",
              "      <td>0.320</td>\n",
              "      <td>1</td>\n",
              "      <td>-32.837</td>\n",
              "      <td>1</td>\n",
              "      <td>0.0691</td>\n",
              "      <td>0.782000</td>\n",
              "      <td>0.963</td>\n",
              "      <td>0.103</td>\n",
              "      <td>0.0373</td>\n",
              "      <td>139.713</td>\n",
              "      <td>audio_features</td>\n",
              "      <td>69mYHeNk3DSNIRBUCLCFZI</td>\n",
              "      <td>spotify:track:69mYHeNk3DSNIRBUCLCFZI</td>\n",
              "      <td>https://api.spotify.com/v1/tracks/69mYHeNk3DSN...</td>\n",
              "      <td>https://api.spotify.com/v1/audio-analysis/69mY...</td>\n",
              "      <td>241556</td>\n",
              "      <td>4</td>\n",
              "    </tr>\n",
              "    <tr>\n",
              "      <th>2</th>\n",
              "      <td>0.194</td>\n",
              "      <td>0.952</td>\n",
              "      <td>7</td>\n",
              "      <td>-17.896</td>\n",
              "      <td>1</td>\n",
              "      <td>0.0888</td>\n",
              "      <td>0.002150</td>\n",
              "      <td>0.996</td>\n",
              "      <td>0.687</td>\n",
              "      <td>0.0309</td>\n",
              "      <td>153.467</td>\n",
              "      <td>audio_features</td>\n",
              "      <td>5WAqDgplhuoFBG4IUdEP4J</td>\n",
              "      <td>spotify:track:5WAqDgplhuoFBG4IUdEP4J</td>\n",
              "      <td>https://api.spotify.com/v1/tracks/5WAqDgplhuoF...</td>\n",
              "      <td>https://api.spotify.com/v1/audio-analysis/5WAq...</td>\n",
              "      <td>157304</td>\n",
              "      <td>3</td>\n",
              "    </tr>\n",
              "    <tr>\n",
              "      <th>3</th>\n",
              "      <td>0.248</td>\n",
              "      <td>0.963</td>\n",
              "      <td>9</td>\n",
              "      <td>-18.139</td>\n",
              "      <td>1</td>\n",
              "      <td>0.0865</td>\n",
              "      <td>0.000776</td>\n",
              "      <td>0.987</td>\n",
              "      <td>0.365</td>\n",
              "      <td>0.0289</td>\n",
              "      <td>76.466</td>\n",
              "      <td>audio_features</td>\n",
              "      <td>5sMzZKg6SLtG5lcudEpDLC</td>\n",
              "      <td>spotify:track:5sMzZKg6SLtG5lcudEpDLC</td>\n",
              "      <td>https://api.spotify.com/v1/tracks/5sMzZKg6SLtG...</td>\n",
              "      <td>https://api.spotify.com/v1/audio-analysis/5sMz...</td>\n",
              "      <td>140142</td>\n",
              "      <td>3</td>\n",
              "    </tr>\n",
              "    <tr>\n",
              "      <th>4</th>\n",
              "      <td>0.288</td>\n",
              "      <td>0.949</td>\n",
              "      <td>0</td>\n",
              "      <td>-27.451</td>\n",
              "      <td>1</td>\n",
              "      <td>0.1100</td>\n",
              "      <td>0.211000</td>\n",
              "      <td>0.929</td>\n",
              "      <td>0.882</td>\n",
              "      <td>0.0227</td>\n",
              "      <td>89.076</td>\n",
              "      <td>audio_features</td>\n",
              "      <td>1iwAjsOxILo4p6uOZLD0Fa</td>\n",
              "      <td>spotify:track:1iwAjsOxILo4p6uOZLD0Fa</td>\n",
              "      <td>https://api.spotify.com/v1/tracks/1iwAjsOxILo4...</td>\n",
              "      <td>https://api.spotify.com/v1/audio-analysis/1iwA...</td>\n",
              "      <td>243533</td>\n",
              "      <td>4</td>\n",
              "    </tr>\n",
              "  </tbody>\n",
              "</table>\n",
              "</div>"
            ],
            "text/plain": [
              "   danceability  energy  ...  duration_ms  time_signature\n",
              "0         0.142   0.516  ...       179972               4\n",
              "1         0.142   0.320  ...       241556               4\n",
              "2         0.194   0.952  ...       157304               3\n",
              "3         0.248   0.963  ...       140142               3\n",
              "4         0.288   0.949  ...       243533               4\n",
              "\n",
              "[5 rows x 18 columns]"
            ]
          },
          "metadata": {
            "tags": []
          },
          "execution_count": 71
        }
      ]
    },
    {
      "cell_type": "code",
      "metadata": {
        "colab": {
          "base_uri": "https://localhost:8080/"
        },
        "id": "F7wo9saX-gBo",
        "outputId": "cc80bd47-6a34-490c-c45d-9655c557aa6b"
      },
      "source": [
        "df_energetic_audio_features = getAudioFeatures(df_energetic_tracks)"
      ],
      "execution_count": 72,
      "outputs": [
        {
          "output_type": "stream",
          "text": [
            "Number of tracks where no audio features were available: 0\n",
            "Time to run this code (in seconds): 0.4839851810000937\n"
          ],
          "name": "stdout"
        }
      ]
    },
    {
      "cell_type": "code",
      "metadata": {
        "colab": {
          "base_uri": "https://localhost:8080/",
          "height": 316
        },
        "id": "7sIAqSNH-2xY",
        "outputId": "4a42eabe-f3f3-4bac-b326-79ff9210bae6"
      },
      "source": [
        "print(\"Shape of the dataset:\", df_energetic_audio_features.shape)\n",
        "df_energetic_audio_features.head()"
      ],
      "execution_count": 73,
      "outputs": [
        {
          "output_type": "stream",
          "text": [
            "Shape of the dataset: (289, 18)\n"
          ],
          "name": "stdout"
        },
        {
          "output_type": "execute_result",
          "data": {
            "text/html": [
              "<div>\n",
              "<style scoped>\n",
              "    .dataframe tbody tr th:only-of-type {\n",
              "        vertical-align: middle;\n",
              "    }\n",
              "\n",
              "    .dataframe tbody tr th {\n",
              "        vertical-align: top;\n",
              "    }\n",
              "\n",
              "    .dataframe thead th {\n",
              "        text-align: right;\n",
              "    }\n",
              "</style>\n",
              "<table border=\"1\" class=\"dataframe\">\n",
              "  <thead>\n",
              "    <tr style=\"text-align: right;\">\n",
              "      <th></th>\n",
              "      <th>danceability</th>\n",
              "      <th>energy</th>\n",
              "      <th>key</th>\n",
              "      <th>loudness</th>\n",
              "      <th>mode</th>\n",
              "      <th>speechiness</th>\n",
              "      <th>acousticness</th>\n",
              "      <th>instrumentalness</th>\n",
              "      <th>liveness</th>\n",
              "      <th>valence</th>\n",
              "      <th>tempo</th>\n",
              "      <th>type</th>\n",
              "      <th>id</th>\n",
              "      <th>uri</th>\n",
              "      <th>track_href</th>\n",
              "      <th>analysis_url</th>\n",
              "      <th>duration_ms</th>\n",
              "      <th>time_signature</th>\n",
              "    </tr>\n",
              "  </thead>\n",
              "  <tbody>\n",
              "    <tr>\n",
              "      <th>0</th>\n",
              "      <td>0.790</td>\n",
              "      <td>0.703</td>\n",
              "      <td>7</td>\n",
              "      <td>-4.285</td>\n",
              "      <td>1</td>\n",
              "      <td>0.1150</td>\n",
              "      <td>0.20700</td>\n",
              "      <td>0.000000</td>\n",
              "      <td>0.1140</td>\n",
              "      <td>0.399</td>\n",
              "      <td>139.995</td>\n",
              "      <td>audio_features</td>\n",
              "      <td>5XgfOmcWvkXTDmOfO81NRP</td>\n",
              "      <td>spotify:track:5XgfOmcWvkXTDmOfO81NRP</td>\n",
              "      <td>https://api.spotify.com/v1/tracks/5XgfOmcWvkXT...</td>\n",
              "      <td>https://api.spotify.com/v1/audio-analysis/5Xgf...</td>\n",
              "      <td>292781</td>\n",
              "      <td>4</td>\n",
              "    </tr>\n",
              "    <tr>\n",
              "      <th>1</th>\n",
              "      <td>0.466</td>\n",
              "      <td>0.680</td>\n",
              "      <td>11</td>\n",
              "      <td>-6.729</td>\n",
              "      <td>0</td>\n",
              "      <td>0.0408</td>\n",
              "      <td>0.01540</td>\n",
              "      <td>0.000047</td>\n",
              "      <td>0.1500</td>\n",
              "      <td>0.221</td>\n",
              "      <td>99.943</td>\n",
              "      <td>audio_features</td>\n",
              "      <td>6cVj2hWi6hDovzI6fjWH3N</td>\n",
              "      <td>spotify:track:6cVj2hWi6hDovzI6fjWH3N</td>\n",
              "      <td>https://api.spotify.com/v1/tracks/6cVj2hWi6hDo...</td>\n",
              "      <td>https://api.spotify.com/v1/audio-analysis/6cVj...</td>\n",
              "      <td>216059</td>\n",
              "      <td>4</td>\n",
              "    </tr>\n",
              "    <tr>\n",
              "      <th>2</th>\n",
              "      <td>0.811</td>\n",
              "      <td>0.901</td>\n",
              "      <td>11</td>\n",
              "      <td>-5.390</td>\n",
              "      <td>0</td>\n",
              "      <td>0.0389</td>\n",
              "      <td>0.00211</td>\n",
              "      <td>0.848000</td>\n",
              "      <td>0.0425</td>\n",
              "      <td>0.725</td>\n",
              "      <td>127.994</td>\n",
              "      <td>audio_features</td>\n",
              "      <td>3d0t8krXtXnNsCPXruNWqR</td>\n",
              "      <td>spotify:track:3d0t8krXtXnNsCPXruNWqR</td>\n",
              "      <td>https://api.spotify.com/v1/tracks/3d0t8krXtXnN...</td>\n",
              "      <td>https://api.spotify.com/v1/audio-analysis/3d0t...</td>\n",
              "      <td>131250</td>\n",
              "      <td>4</td>\n",
              "    </tr>\n",
              "    <tr>\n",
              "      <th>3</th>\n",
              "      <td>0.737</td>\n",
              "      <td>0.434</td>\n",
              "      <td>6</td>\n",
              "      <td>-14.013</td>\n",
              "      <td>1</td>\n",
              "      <td>0.9020</td>\n",
              "      <td>0.54000</td>\n",
              "      <td>0.000000</td>\n",
              "      <td>0.3320</td>\n",
              "      <td>0.634</td>\n",
              "      <td>101.835</td>\n",
              "      <td>audio_features</td>\n",
              "      <td>1dkMVDHOBz2r171zApCVdr</td>\n",
              "      <td>spotify:track:1dkMVDHOBz2r171zApCVdr</td>\n",
              "      <td>https://api.spotify.com/v1/tracks/1dkMVDHOBz2r...</td>\n",
              "      <td>https://api.spotify.com/v1/audio-analysis/1dkM...</td>\n",
              "      <td>115693</td>\n",
              "      <td>4</td>\n",
              "    </tr>\n",
              "    <tr>\n",
              "      <th>4</th>\n",
              "      <td>0.626</td>\n",
              "      <td>0.453</td>\n",
              "      <td>8</td>\n",
              "      <td>-13.727</td>\n",
              "      <td>0</td>\n",
              "      <td>0.9210</td>\n",
              "      <td>0.61900</td>\n",
              "      <td>0.000000</td>\n",
              "      <td>0.3650</td>\n",
              "      <td>0.687</td>\n",
              "      <td>76.235</td>\n",
              "      <td>audio_features</td>\n",
              "      <td>4vlFuPLQFmhMsw2u75PXuJ</td>\n",
              "      <td>spotify:track:4vlFuPLQFmhMsw2u75PXuJ</td>\n",
              "      <td>https://api.spotify.com/v1/tracks/4vlFuPLQFmhM...</td>\n",
              "      <td>https://api.spotify.com/v1/audio-analysis/4vlF...</td>\n",
              "      <td>84880</td>\n",
              "      <td>3</td>\n",
              "    </tr>\n",
              "  </tbody>\n",
              "</table>\n",
              "</div>"
            ],
            "text/plain": [
              "   danceability  energy  ...  duration_ms  time_signature\n",
              "0         0.790   0.703  ...       292781               4\n",
              "1         0.466   0.680  ...       216059               4\n",
              "2         0.811   0.901  ...       131250               4\n",
              "3         0.737   0.434  ...       115693               4\n",
              "4         0.626   0.453  ...        84880               3\n",
              "\n",
              "[5 rows x 18 columns]"
            ]
          },
          "metadata": {
            "tags": []
          },
          "execution_count": 73
        }
      ]
    },
    {
      "cell_type": "code",
      "metadata": {
        "colab": {
          "base_uri": "https://localhost:8080/"
        },
        "id": "g1iOISEY-717",
        "outputId": "0ce2d845-8bc0-4f77-c23c-8bc200bca7c5"
      },
      "source": [
        "df_happy_audio_features = getAudioFeatures(df_happy_tracks)"
      ],
      "execution_count": 74,
      "outputs": [
        {
          "output_type": "stream",
          "text": [
            "Number of tracks where no audio features were available: 0\n",
            "Time to run this code (in seconds): 0.48248773000000256\n"
          ],
          "name": "stdout"
        }
      ]
    },
    {
      "cell_type": "code",
      "metadata": {
        "colab": {
          "base_uri": "https://localhost:8080/",
          "height": 316
        },
        "id": "ImN8SwVA_Avh",
        "outputId": "13f52b9c-8408-4eaf-85a8-8221e4261d9e"
      },
      "source": [
        "print(\"Shape of the dataset:\", df_happy_audio_features.shape)\n",
        "df_happy_audio_features.head()"
      ],
      "execution_count": 75,
      "outputs": [
        {
          "output_type": "stream",
          "text": [
            "Shape of the dataset: (298, 18)\n"
          ],
          "name": "stdout"
        },
        {
          "output_type": "execute_result",
          "data": {
            "text/html": [
              "<div>\n",
              "<style scoped>\n",
              "    .dataframe tbody tr th:only-of-type {\n",
              "        vertical-align: middle;\n",
              "    }\n",
              "\n",
              "    .dataframe tbody tr th {\n",
              "        vertical-align: top;\n",
              "    }\n",
              "\n",
              "    .dataframe thead th {\n",
              "        text-align: right;\n",
              "    }\n",
              "</style>\n",
              "<table border=\"1\" class=\"dataframe\">\n",
              "  <thead>\n",
              "    <tr style=\"text-align: right;\">\n",
              "      <th></th>\n",
              "      <th>danceability</th>\n",
              "      <th>energy</th>\n",
              "      <th>key</th>\n",
              "      <th>loudness</th>\n",
              "      <th>mode</th>\n",
              "      <th>speechiness</th>\n",
              "      <th>acousticness</th>\n",
              "      <th>instrumentalness</th>\n",
              "      <th>liveness</th>\n",
              "      <th>valence</th>\n",
              "      <th>tempo</th>\n",
              "      <th>type</th>\n",
              "      <th>id</th>\n",
              "      <th>uri</th>\n",
              "      <th>track_href</th>\n",
              "      <th>analysis_url</th>\n",
              "      <th>duration_ms</th>\n",
              "      <th>time_signature</th>\n",
              "    </tr>\n",
              "  </thead>\n",
              "  <tbody>\n",
              "    <tr>\n",
              "      <th>0</th>\n",
              "      <td>0.650</td>\n",
              "      <td>0.971</td>\n",
              "      <td>5</td>\n",
              "      <td>-4.088</td>\n",
              "      <td>0</td>\n",
              "      <td>0.2090</td>\n",
              "      <td>0.00656</td>\n",
              "      <td>0.0327</td>\n",
              "      <td>0.2580</td>\n",
              "      <td>0.200</td>\n",
              "      <td>139.970</td>\n",
              "      <td>audio_features</td>\n",
              "      <td>6pAzrdqZKo4AnRWDKStG7R</td>\n",
              "      <td>spotify:track:6pAzrdqZKo4AnRWDKStG7R</td>\n",
              "      <td>https://api.spotify.com/v1/tracks/6pAzrdqZKo4A...</td>\n",
              "      <td>https://api.spotify.com/v1/audio-analysis/6pAz...</td>\n",
              "      <td>197250</td>\n",
              "      <td>4</td>\n",
              "    </tr>\n",
              "    <tr>\n",
              "      <th>1</th>\n",
              "      <td>0.685</td>\n",
              "      <td>0.554</td>\n",
              "      <td>7</td>\n",
              "      <td>-10.473</td>\n",
              "      <td>1</td>\n",
              "      <td>0.1150</td>\n",
              "      <td>0.44300</td>\n",
              "      <td>0.0000</td>\n",
              "      <td>0.4820</td>\n",
              "      <td>0.789</td>\n",
              "      <td>160.002</td>\n",
              "      <td>audio_features</td>\n",
              "      <td>3LbO439QNr3IX7Ho39Fq8X</td>\n",
              "      <td>spotify:track:3LbO439QNr3IX7Ho39Fq8X</td>\n",
              "      <td>https://api.spotify.com/v1/tracks/3LbO439QNr3I...</td>\n",
              "      <td>https://api.spotify.com/v1/audio-analysis/3LbO...</td>\n",
              "      <td>201258</td>\n",
              "      <td>4</td>\n",
              "    </tr>\n",
              "    <tr>\n",
              "      <th>2</th>\n",
              "      <td>0.503</td>\n",
              "      <td>0.370</td>\n",
              "      <td>11</td>\n",
              "      <td>-17.502</td>\n",
              "      <td>1</td>\n",
              "      <td>0.0489</td>\n",
              "      <td>0.76800</td>\n",
              "      <td>0.5990</td>\n",
              "      <td>0.1160</td>\n",
              "      <td>0.102</td>\n",
              "      <td>78.963</td>\n",
              "      <td>audio_features</td>\n",
              "      <td>46T7puWlH8ptC6lx7bQ3TY</td>\n",
              "      <td>spotify:track:46T7puWlH8ptC6lx7bQ3TY</td>\n",
              "      <td>https://api.spotify.com/v1/tracks/46T7puWlH8pt...</td>\n",
              "      <td>https://api.spotify.com/v1/audio-analysis/46T7...</td>\n",
              "      <td>218776</td>\n",
              "      <td>4</td>\n",
              "    </tr>\n",
              "    <tr>\n",
              "      <th>3</th>\n",
              "      <td>0.834</td>\n",
              "      <td>0.531</td>\n",
              "      <td>3</td>\n",
              "      <td>-10.450</td>\n",
              "      <td>1</td>\n",
              "      <td>0.1600</td>\n",
              "      <td>0.48000</td>\n",
              "      <td>0.0000</td>\n",
              "      <td>0.0957</td>\n",
              "      <td>0.390</td>\n",
              "      <td>99.999</td>\n",
              "      <td>audio_features</td>\n",
              "      <td>5erGUceK8ieHWtTXdnGP65</td>\n",
              "      <td>spotify:track:5erGUceK8ieHWtTXdnGP65</td>\n",
              "      <td>https://api.spotify.com/v1/tracks/5erGUceK8ieH...</td>\n",
              "      <td>https://api.spotify.com/v1/audio-analysis/5erG...</td>\n",
              "      <td>239612</td>\n",
              "      <td>4</td>\n",
              "    </tr>\n",
              "    <tr>\n",
              "      <th>4</th>\n",
              "      <td>0.848</td>\n",
              "      <td>0.475</td>\n",
              "      <td>0</td>\n",
              "      <td>-8.949</td>\n",
              "      <td>1</td>\n",
              "      <td>0.4760</td>\n",
              "      <td>0.01380</td>\n",
              "      <td>0.0000</td>\n",
              "      <td>0.1070</td>\n",
              "      <td>0.195</td>\n",
              "      <td>138.917</td>\n",
              "      <td>audio_features</td>\n",
              "      <td>0Y9kRbsQKC9zSmfzxPgYiT</td>\n",
              "      <td>spotify:track:0Y9kRbsQKC9zSmfzxPgYiT</td>\n",
              "      <td>https://api.spotify.com/v1/tracks/0Y9kRbsQKC9z...</td>\n",
              "      <td>https://api.spotify.com/v1/audio-analysis/0Y9k...</td>\n",
              "      <td>124317</td>\n",
              "      <td>4</td>\n",
              "    </tr>\n",
              "  </tbody>\n",
              "</table>\n",
              "</div>"
            ],
            "text/plain": [
              "   danceability  energy  ...  duration_ms  time_signature\n",
              "0         0.650   0.971  ...       197250               4\n",
              "1         0.685   0.554  ...       201258               4\n",
              "2         0.503   0.370  ...       218776               4\n",
              "3         0.834   0.531  ...       239612               4\n",
              "4         0.848   0.475  ...       124317               4\n",
              "\n",
              "[5 rows x 18 columns]"
            ]
          },
          "metadata": {
            "tags": []
          },
          "execution_count": 75
        }
      ]
    },
    {
      "cell_type": "code",
      "metadata": {
        "colab": {
          "base_uri": "https://localhost:8080/"
        },
        "id": "vxaxzrv6_QG0",
        "outputId": "04151fca-ab8d-4955-e096-4b54866136fc"
      },
      "source": [
        "df_sad_audio_features = getAudioFeatures(df_sad_tracks)"
      ],
      "execution_count": 76,
      "outputs": [
        {
          "output_type": "stream",
          "text": [
            "Number of tracks where no audio features were available: 0\n",
            "Time to run this code (in seconds): 0.4957657759999847\n"
          ],
          "name": "stdout"
        }
      ]
    },
    {
      "cell_type": "code",
      "metadata": {
        "colab": {
          "base_uri": "https://localhost:8080/",
          "height": 316
        },
        "id": "8UaIWBMC_TeX",
        "outputId": "2a10153d-9f4b-4e14-ed9d-f6067e14aa55"
      },
      "source": [
        "print(\"Shape of the dataset:\", df_sad_audio_features.shape)\n",
        "df_sad_audio_features.head()"
      ],
      "execution_count": 77,
      "outputs": [
        {
          "output_type": "stream",
          "text": [
            "Shape of the dataset: (297, 18)\n"
          ],
          "name": "stdout"
        },
        {
          "output_type": "execute_result",
          "data": {
            "text/html": [
              "<div>\n",
              "<style scoped>\n",
              "    .dataframe tbody tr th:only-of-type {\n",
              "        vertical-align: middle;\n",
              "    }\n",
              "\n",
              "    .dataframe tbody tr th {\n",
              "        vertical-align: top;\n",
              "    }\n",
              "\n",
              "    .dataframe thead th {\n",
              "        text-align: right;\n",
              "    }\n",
              "</style>\n",
              "<table border=\"1\" class=\"dataframe\">\n",
              "  <thead>\n",
              "    <tr style=\"text-align: right;\">\n",
              "      <th></th>\n",
              "      <th>danceability</th>\n",
              "      <th>energy</th>\n",
              "      <th>key</th>\n",
              "      <th>loudness</th>\n",
              "      <th>mode</th>\n",
              "      <th>speechiness</th>\n",
              "      <th>acousticness</th>\n",
              "      <th>instrumentalness</th>\n",
              "      <th>liveness</th>\n",
              "      <th>valence</th>\n",
              "      <th>tempo</th>\n",
              "      <th>type</th>\n",
              "      <th>id</th>\n",
              "      <th>uri</th>\n",
              "      <th>track_href</th>\n",
              "      <th>analysis_url</th>\n",
              "      <th>duration_ms</th>\n",
              "      <th>time_signature</th>\n",
              "    </tr>\n",
              "  </thead>\n",
              "  <tbody>\n",
              "    <tr>\n",
              "      <th>0</th>\n",
              "      <td>0.503</td>\n",
              "      <td>0.370</td>\n",
              "      <td>11</td>\n",
              "      <td>-17.502</td>\n",
              "      <td>1</td>\n",
              "      <td>0.0489</td>\n",
              "      <td>0.76800</td>\n",
              "      <td>0.5990</td>\n",
              "      <td>0.1160</td>\n",
              "      <td>0.102</td>\n",
              "      <td>78.963</td>\n",
              "      <td>audio_features</td>\n",
              "      <td>46T7puWlH8ptC6lx7bQ3TY</td>\n",
              "      <td>spotify:track:46T7puWlH8ptC6lx7bQ3TY</td>\n",
              "      <td>https://api.spotify.com/v1/tracks/46T7puWlH8pt...</td>\n",
              "      <td>https://api.spotify.com/v1/audio-analysis/46T7...</td>\n",
              "      <td>218776</td>\n",
              "      <td>4</td>\n",
              "    </tr>\n",
              "    <tr>\n",
              "      <th>1</th>\n",
              "      <td>0.477</td>\n",
              "      <td>0.370</td>\n",
              "      <td>4</td>\n",
              "      <td>-12.394</td>\n",
              "      <td>1</td>\n",
              "      <td>0.0315</td>\n",
              "      <td>0.68900</td>\n",
              "      <td>0.7990</td>\n",
              "      <td>0.0977</td>\n",
              "      <td>0.638</td>\n",
              "      <td>179.707</td>\n",
              "      <td>audio_features</td>\n",
              "      <td>3McFNMvwAOUOCM83wyTpUr</td>\n",
              "      <td>spotify:track:3McFNMvwAOUOCM83wyTpUr</td>\n",
              "      <td>https://api.spotify.com/v1/tracks/3McFNMvwAOUO...</td>\n",
              "      <td>https://api.spotify.com/v1/audio-analysis/3McF...</td>\n",
              "      <td>192710</td>\n",
              "      <td>4</td>\n",
              "    </tr>\n",
              "    <tr>\n",
              "      <th>2</th>\n",
              "      <td>0.578</td>\n",
              "      <td>0.115</td>\n",
              "      <td>0</td>\n",
              "      <td>-20.333</td>\n",
              "      <td>1</td>\n",
              "      <td>0.0360</td>\n",
              "      <td>0.00922</td>\n",
              "      <td>0.0031</td>\n",
              "      <td>0.0834</td>\n",
              "      <td>0.363</td>\n",
              "      <td>199.975</td>\n",
              "      <td>audio_features</td>\n",
              "      <td>70oY6gKgHfMlVLVxFROeiA</td>\n",
              "      <td>spotify:track:70oY6gKgHfMlVLVxFROeiA</td>\n",
              "      <td>https://api.spotify.com/v1/tracks/70oY6gKgHfMl...</td>\n",
              "      <td>https://api.spotify.com/v1/audio-analysis/70oY...</td>\n",
              "      <td>243646</td>\n",
              "      <td>3</td>\n",
              "    </tr>\n",
              "    <tr>\n",
              "      <th>3</th>\n",
              "      <td>0.677</td>\n",
              "      <td>0.416</td>\n",
              "      <td>0</td>\n",
              "      <td>-11.775</td>\n",
              "      <td>1</td>\n",
              "      <td>0.0313</td>\n",
              "      <td>0.42100</td>\n",
              "      <td>0.0000</td>\n",
              "      <td>0.1350</td>\n",
              "      <td>0.172</td>\n",
              "      <td>126.174</td>\n",
              "      <td>audio_features</td>\n",
              "      <td>0WeBxkwIGnnoPAPNsnfEAd</td>\n",
              "      <td>spotify:track:0WeBxkwIGnnoPAPNsnfEAd</td>\n",
              "      <td>https://api.spotify.com/v1/tracks/0WeBxkwIGnno...</td>\n",
              "      <td>https://api.spotify.com/v1/audio-analysis/0WeB...</td>\n",
              "      <td>174762</td>\n",
              "      <td>4</td>\n",
              "    </tr>\n",
              "    <tr>\n",
              "      <th>4</th>\n",
              "      <td>0.543</td>\n",
              "      <td>0.788</td>\n",
              "      <td>5</td>\n",
              "      <td>-0.949</td>\n",
              "      <td>0</td>\n",
              "      <td>0.3180</td>\n",
              "      <td>0.12900</td>\n",
              "      <td>0.0000</td>\n",
              "      <td>0.4210</td>\n",
              "      <td>0.468</td>\n",
              "      <td>142.784</td>\n",
              "      <td>audio_features</td>\n",
              "      <td>0YsE50FuGtzivL2t8CeG9h</td>\n",
              "      <td>spotify:track:0YsE50FuGtzivL2t8CeG9h</td>\n",
              "      <td>https://api.spotify.com/v1/tracks/0YsE50FuGtzi...</td>\n",
              "      <td>https://api.spotify.com/v1/audio-analysis/0YsE...</td>\n",
              "      <td>64016</td>\n",
              "      <td>4</td>\n",
              "    </tr>\n",
              "  </tbody>\n",
              "</table>\n",
              "</div>"
            ],
            "text/plain": [
              "   danceability  energy  ...  duration_ms  time_signature\n",
              "0         0.503   0.370  ...       218776               4\n",
              "1         0.477   0.370  ...       192710               4\n",
              "2         0.578   0.115  ...       243646               3\n",
              "3         0.677   0.416  ...       174762               4\n",
              "4         0.543   0.788  ...        64016               4\n",
              "\n",
              "[5 rows x 18 columns]"
            ]
          },
          "metadata": {
            "tags": []
          },
          "execution_count": 77
        }
      ]
    },
    {
      "cell_type": "code",
      "metadata": {
        "id": "NADhCJmw_vaJ"
      },
      "source": [
        "def dropColumns(df_audio_features):\n",
        "  columns_to_drop = ['analysis_url','track_href','type','key','mode','time_signature']\n",
        "  df_audio_features.drop(columns_to_drop, axis=1,inplace=True)\n",
        "\n",
        "  df_audio_features.rename(columns={'id': 'track_id'}, inplace=True)\n",
        "\n",
        "  df_audio_features.shape"
      ],
      "execution_count": 28,
      "outputs": []
    },
    {
      "cell_type": "code",
      "metadata": {
        "id": "-4S2f110AHXH"
      },
      "source": [
        "dropColumns(df_calm_audio_features)\n",
        "dropColumns(df_energetic_audio_features)\n",
        "dropColumns(df_happy_audio_features)\n",
        "dropColumns(df_sad_audio_features)"
      ],
      "execution_count": 78,
      "outputs": []
    },
    {
      "cell_type": "code",
      "metadata": {
        "id": "5lJ78n7UMfRI"
      },
      "source": [
        "if not 'mood' in df_calm_audio_features:\n",
        "  df_calm_audio_features['mood'] = 'calm' # label calm \n",
        "\n",
        "if not 'mood' in df_energetic_audio_features:\n",
        "  df_energetic_audio_features['mood'] = 'energetic' # label energetic \n",
        "\n",
        "if not 'mood' in df_happy_audio_features:\n",
        "  df_happy_audio_features['mood'] = 'happy' # label happy\n",
        "\n",
        "if not 'mood' in df_sad_audio_features:\n",
        "  df_sad_audio_features['mood'] = 'sad' # label sad "
      ],
      "execution_count": 79,
      "outputs": []
    },
    {
      "cell_type": "code",
      "metadata": {
        "id": "5EMmm6JJAUsK"
      },
      "source": [
        "def mergeDataframes(df_tracks,df_audio_features):\n",
        "  # merge both dataframes\n",
        "  # the 'inner' method will make sure that we only keep track IDs present in both datasets\n",
        "  df = pd.merge(df_tracks,df_audio_features,on='track_id',how='inner')\n",
        "  \n",
        "  return df"
      ],
      "execution_count": 80,
      "outputs": []
    },
    {
      "cell_type": "code",
      "metadata": {
        "id": "3Uss7BXdAhmK"
      },
      "source": [
        "df_calm = mergeDataframes(df_calm_tracks, df_calm_audio_features)\n",
        "df_energetic = mergeDataframes(df_energetic_tracks, df_energetic_audio_features)\n",
        "df_happy = mergeDataframes(df_happy_tracks, df_happy_audio_features)\n",
        "df_sad = mergeDataframes(df_sad_tracks, df_sad_audio_features)"
      ],
      "execution_count": 81,
      "outputs": []
    },
    {
      "cell_type": "code",
      "metadata": {
        "id": "lMX1qCJOA3Lf"
      },
      "source": [
        "df_calm.to_csv('calm.csv')\n",
        "df_energetic.to_csv('energetic.csv')\n",
        "df_happy.to_csv('happy.csv')\n",
        "df_sad.to_csv('sad.csv')"
      ],
      "execution_count": 82,
      "outputs": []
    },
    {
      "cell_type": "code",
      "metadata": {
        "id": "GZqbMdKOqf_O"
      },
      "source": [
        "%mkdir data_from_spotify"
      ],
      "execution_count": 34,
      "outputs": []
    },
    {
      "cell_type": "code",
      "metadata": {
        "id": "ZpchIdxurlbe"
      },
      "source": [
        "!mv \"/content/calm.csv\" \"/content/data_from_spotify\""
      ],
      "execution_count": 83,
      "outputs": []
    },
    {
      "cell_type": "code",
      "metadata": {
        "id": "Yi1aST07r4D4"
      },
      "source": [
        "!mv \"/content/energetic.csv\" \"/content/data_from_spotify\""
      ],
      "execution_count": 84,
      "outputs": []
    },
    {
      "cell_type": "code",
      "metadata": {
        "id": "QIO7Ubwyr-Ah"
      },
      "source": [
        "!mv \"/content/happy.csv\" \"/content/data_from_spotify\""
      ],
      "execution_count": 85,
      "outputs": []
    },
    {
      "cell_type": "code",
      "metadata": {
        "id": "jyZ2Rk4YsBOs"
      },
      "source": [
        "!mv \"/content/sad.csv\" \"/content/data_from_spotify\""
      ],
      "execution_count": 86,
      "outputs": []
    },
    {
      "cell_type": "code",
      "metadata": {
        "id": "vN726JbavMPt"
      },
      "source": [
        "df_list = [df_calm, df_energetic, df_happy, df_sad]"
      ],
      "execution_count": 87,
      "outputs": []
    },
    {
      "cell_type": "code",
      "metadata": {
        "id": "JFNlkdDvvZyl"
      },
      "source": [
        "df = pd.concat(df_list)"
      ],
      "execution_count": 88,
      "outputs": []
    },
    {
      "cell_type": "code",
      "metadata": {
        "colab": {
          "base_uri": "https://localhost:8080/",
          "height": 522
        },
        "id": "Y8lR0YO1vdQC",
        "outputId": "ed1d59ab-f31c-4dec-9cea-fae018202a2a"
      },
      "source": [
        "df"
      ],
      "execution_count": 89,
      "outputs": [
        {
          "output_type": "execute_result",
          "data": {
            "text/html": [
              "<div>\n",
              "<style scoped>\n",
              "    .dataframe tbody tr th:only-of-type {\n",
              "        vertical-align: middle;\n",
              "    }\n",
              "\n",
              "    .dataframe tbody tr th {\n",
              "        vertical-align: top;\n",
              "    }\n",
              "\n",
              "    .dataframe thead th {\n",
              "        text-align: right;\n",
              "    }\n",
              "</style>\n",
              "<table border=\"1\" class=\"dataframe\">\n",
              "  <thead>\n",
              "    <tr style=\"text-align: right;\">\n",
              "      <th></th>\n",
              "      <th>artist_name</th>\n",
              "      <th>track_name</th>\n",
              "      <th>track_id</th>\n",
              "      <th>popularity</th>\n",
              "      <th>danceability</th>\n",
              "      <th>energy</th>\n",
              "      <th>loudness</th>\n",
              "      <th>speechiness</th>\n",
              "      <th>acousticness</th>\n",
              "      <th>instrumentalness</th>\n",
              "      <th>liveness</th>\n",
              "      <th>valence</th>\n",
              "      <th>tempo</th>\n",
              "      <th>uri</th>\n",
              "      <th>duration_ms</th>\n",
              "      <th>mood</th>\n",
              "    </tr>\n",
              "  </thead>\n",
              "  <tbody>\n",
              "    <tr>\n",
              "      <th>0</th>\n",
              "      <td>The Calm Factory</td>\n",
              "      <td>Forest Thunderstorm</td>\n",
              "      <td>3NTAcEKTrL3yHnEzBklXcN</td>\n",
              "      <td>63</td>\n",
              "      <td>0.142</td>\n",
              "      <td>0.516</td>\n",
              "      <td>-25.856</td>\n",
              "      <td>0.0694</td>\n",
              "      <td>0.730000</td>\n",
              "      <td>0.944000</td>\n",
              "      <td>0.223</td>\n",
              "      <td>0.0263</td>\n",
              "      <td>88.277</td>\n",
              "      <td>spotify:track:3NTAcEKTrL3yHnEzBklXcN</td>\n",
              "      <td>179972</td>\n",
              "      <td>calm</td>\n",
              "    </tr>\n",
              "    <tr>\n",
              "      <th>1</th>\n",
              "      <td>The Calm Factory</td>\n",
              "      <td>Calm Before The Storm</td>\n",
              "      <td>69mYHeNk3DSNIRBUCLCFZI</td>\n",
              "      <td>60</td>\n",
              "      <td>0.142</td>\n",
              "      <td>0.320</td>\n",
              "      <td>-32.837</td>\n",
              "      <td>0.0691</td>\n",
              "      <td>0.782000</td>\n",
              "      <td>0.963000</td>\n",
              "      <td>0.103</td>\n",
              "      <td>0.0373</td>\n",
              "      <td>139.713</td>\n",
              "      <td>spotify:track:69mYHeNk3DSNIRBUCLCFZI</td>\n",
              "      <td>241556</td>\n",
              "      <td>calm</td>\n",
              "    </tr>\n",
              "    <tr>\n",
              "      <th>2</th>\n",
              "      <td>The Calm Factory</td>\n",
              "      <td>Rain For Relaxation</td>\n",
              "      <td>5WAqDgplhuoFBG4IUdEP4J</td>\n",
              "      <td>59</td>\n",
              "      <td>0.194</td>\n",
              "      <td>0.952</td>\n",
              "      <td>-17.896</td>\n",
              "      <td>0.0888</td>\n",
              "      <td>0.002150</td>\n",
              "      <td>0.996000</td>\n",
              "      <td>0.687</td>\n",
              "      <td>0.0309</td>\n",
              "      <td>153.467</td>\n",
              "      <td>spotify:track:5WAqDgplhuoFBG4IUdEP4J</td>\n",
              "      <td>157304</td>\n",
              "      <td>calm</td>\n",
              "    </tr>\n",
              "    <tr>\n",
              "      <th>3</th>\n",
              "      <td>The Calm Factory</td>\n",
              "      <td>Chuva soa para dormir</td>\n",
              "      <td>5sMzZKg6SLtG5lcudEpDLC</td>\n",
              "      <td>58</td>\n",
              "      <td>0.248</td>\n",
              "      <td>0.963</td>\n",
              "      <td>-18.139</td>\n",
              "      <td>0.0865</td>\n",
              "      <td>0.000776</td>\n",
              "      <td>0.987000</td>\n",
              "      <td>0.365</td>\n",
              "      <td>0.0289</td>\n",
              "      <td>76.466</td>\n",
              "      <td>spotify:track:5sMzZKg6SLtG5lcudEpDLC</td>\n",
              "      <td>140142</td>\n",
              "      <td>calm</td>\n",
              "    </tr>\n",
              "    <tr>\n",
              "      <th>4</th>\n",
              "      <td>Sounds Of Calm</td>\n",
              "      <td>Small River On Rocks</td>\n",
              "      <td>1iwAjsOxILo4p6uOZLD0Fa</td>\n",
              "      <td>47</td>\n",
              "      <td>0.288</td>\n",
              "      <td>0.949</td>\n",
              "      <td>-27.451</td>\n",
              "      <td>0.1100</td>\n",
              "      <td>0.211000</td>\n",
              "      <td>0.929000</td>\n",
              "      <td>0.882</td>\n",
              "      <td>0.0227</td>\n",
              "      <td>89.076</td>\n",
              "      <td>spotify:track:1iwAjsOxILo4p6uOZLD0Fa</td>\n",
              "      <td>243533</td>\n",
              "      <td>calm</td>\n",
              "    </tr>\n",
              "    <tr>\n",
              "      <th>...</th>\n",
              "      <td>...</td>\n",
              "      <td>...</td>\n",
              "      <td>...</td>\n",
              "      <td>...</td>\n",
              "      <td>...</td>\n",
              "      <td>...</td>\n",
              "      <td>...</td>\n",
              "      <td>...</td>\n",
              "      <td>...</td>\n",
              "      <td>...</td>\n",
              "      <td>...</td>\n",
              "      <td>...</td>\n",
              "      <td>...</td>\n",
              "      <td>...</td>\n",
              "      <td>...</td>\n",
              "      <td>...</td>\n",
              "    </tr>\n",
              "    <tr>\n",
              "      <th>292</th>\n",
              "      <td>Chris Pureka</td>\n",
              "      <td>Back in the Ring</td>\n",
              "      <td>6UXpeNbXigZehwcaediKiV</td>\n",
              "      <td>15</td>\n",
              "      <td>0.331</td>\n",
              "      <td>0.532</td>\n",
              "      <td>-5.826</td>\n",
              "      <td>0.0290</td>\n",
              "      <td>0.392000</td>\n",
              "      <td>0.000148</td>\n",
              "      <td>0.110</td>\n",
              "      <td>0.1390</td>\n",
              "      <td>98.194</td>\n",
              "      <td>spotify:track:6UXpeNbXigZehwcaediKiV</td>\n",
              "      <td>306653</td>\n",
              "      <td>sad</td>\n",
              "    </tr>\n",
              "    <tr>\n",
              "      <th>293</th>\n",
              "      <td>Sad Penny</td>\n",
              "      <td>Pissing</td>\n",
              "      <td>2a0x3B5aG0AAH7gyQRX6lC</td>\n",
              "      <td>20</td>\n",
              "      <td>0.495</td>\n",
              "      <td>0.518</td>\n",
              "      <td>-6.055</td>\n",
              "      <td>0.0361</td>\n",
              "      <td>0.001790</td>\n",
              "      <td>0.058500</td>\n",
              "      <td>0.119</td>\n",
              "      <td>0.1750</td>\n",
              "      <td>117.999</td>\n",
              "      <td>spotify:track:2a0x3B5aG0AAH7gyQRX6lC</td>\n",
              "      <td>248208</td>\n",
              "      <td>sad</td>\n",
              "    </tr>\n",
              "    <tr>\n",
              "      <th>294</th>\n",
              "      <td>KOTAROKILLA</td>\n",
              "      <td>Знаки</td>\n",
              "      <td>5gEbC1FTcZ3NOe81S6GfH4</td>\n",
              "      <td>15</td>\n",
              "      <td>0.717</td>\n",
              "      <td>0.519</td>\n",
              "      <td>-14.988</td>\n",
              "      <td>0.1400</td>\n",
              "      <td>0.496000</td>\n",
              "      <td>0.001250</td>\n",
              "      <td>0.106</td>\n",
              "      <td>0.2080</td>\n",
              "      <td>120.091</td>\n",
              "      <td>spotify:track:5gEbC1FTcZ3NOe81S6GfH4</td>\n",
              "      <td>136460</td>\n",
              "      <td>sad</td>\n",
              "    </tr>\n",
              "    <tr>\n",
              "      <th>295</th>\n",
              "      <td>Sad Cops</td>\n",
              "      <td>Best Friends</td>\n",
              "      <td>3npR9KfMOzwOWXvFkdnoDT</td>\n",
              "      <td>16</td>\n",
              "      <td>0.662</td>\n",
              "      <td>0.612</td>\n",
              "      <td>-11.619</td>\n",
              "      <td>0.0398</td>\n",
              "      <td>0.037100</td>\n",
              "      <td>0.722000</td>\n",
              "      <td>0.160</td>\n",
              "      <td>0.8110</td>\n",
              "      <td>92.993</td>\n",
              "      <td>spotify:track:3npR9KfMOzwOWXvFkdnoDT</td>\n",
              "      <td>171200</td>\n",
              "      <td>sad</td>\n",
              "    </tr>\n",
              "    <tr>\n",
              "      <th>296</th>\n",
              "      <td>Samuellimàta</td>\n",
              "      <td>Tackle Box</td>\n",
              "      <td>5L8bEAmQvcD5kNf1ZSzKZN</td>\n",
              "      <td>20</td>\n",
              "      <td>0.631</td>\n",
              "      <td>0.541</td>\n",
              "      <td>-5.916</td>\n",
              "      <td>0.0402</td>\n",
              "      <td>0.476000</td>\n",
              "      <td>0.000000</td>\n",
              "      <td>0.114</td>\n",
              "      <td>0.6900</td>\n",
              "      <td>80.057</td>\n",
              "      <td>spotify:track:5L8bEAmQvcD5kNf1ZSzKZN</td>\n",
              "      <td>135714</td>\n",
              "      <td>sad</td>\n",
              "    </tr>\n",
              "  </tbody>\n",
              "</table>\n",
              "<p>1170 rows × 16 columns</p>\n",
              "</div>"
            ],
            "text/plain": [
              "          artist_name             track_name  ... duration_ms  mood\n",
              "0    The Calm Factory    Forest Thunderstorm  ...      179972  calm\n",
              "1    The Calm Factory  Calm Before The Storm  ...      241556  calm\n",
              "2    The Calm Factory    Rain For Relaxation  ...      157304  calm\n",
              "3    The Calm Factory  Chuva soa para dormir  ...      140142  calm\n",
              "4      Sounds Of Calm   Small River On Rocks  ...      243533  calm\n",
              "..                ...                    ...  ...         ...   ...\n",
              "292      Chris Pureka       Back in the Ring  ...      306653   sad\n",
              "293         Sad Penny                Pissing  ...      248208   sad\n",
              "294       KOTAROKILLA                  Знаки  ...      136460   sad\n",
              "295          Sad Cops           Best Friends  ...      171200   sad\n",
              "296      Samuellimàta             Tackle Box  ...      135714   sad\n",
              "\n",
              "[1170 rows x 16 columns]"
            ]
          },
          "metadata": {
            "tags": []
          },
          "execution_count": 89
        }
      ]
    },
    {
      "cell_type": "code",
      "metadata": {
        "id": "WtlVIAd0v7nB"
      },
      "source": [
        "df = df.sample(frac=1).reset_index(drop=True)"
      ],
      "execution_count": 90,
      "outputs": []
    },
    {
      "cell_type": "code",
      "metadata": {
        "colab": {
          "base_uri": "https://localhost:8080/",
          "height": 590
        },
        "id": "hLksNdavxjBS",
        "outputId": "080e503f-9884-44ff-8547-181458370b9e"
      },
      "source": [
        "df"
      ],
      "execution_count": 91,
      "outputs": [
        {
          "output_type": "execute_result",
          "data": {
            "text/html": [
              "<div>\n",
              "<style scoped>\n",
              "    .dataframe tbody tr th:only-of-type {\n",
              "        vertical-align: middle;\n",
              "    }\n",
              "\n",
              "    .dataframe tbody tr th {\n",
              "        vertical-align: top;\n",
              "    }\n",
              "\n",
              "    .dataframe thead th {\n",
              "        text-align: right;\n",
              "    }\n",
              "</style>\n",
              "<table border=\"1\" class=\"dataframe\">\n",
              "  <thead>\n",
              "    <tr style=\"text-align: right;\">\n",
              "      <th></th>\n",
              "      <th>artist_name</th>\n",
              "      <th>track_name</th>\n",
              "      <th>track_id</th>\n",
              "      <th>popularity</th>\n",
              "      <th>danceability</th>\n",
              "      <th>energy</th>\n",
              "      <th>loudness</th>\n",
              "      <th>speechiness</th>\n",
              "      <th>acousticness</th>\n",
              "      <th>instrumentalness</th>\n",
              "      <th>liveness</th>\n",
              "      <th>valence</th>\n",
              "      <th>tempo</th>\n",
              "      <th>uri</th>\n",
              "      <th>duration_ms</th>\n",
              "      <th>mood</th>\n",
              "    </tr>\n",
              "  </thead>\n",
              "  <tbody>\n",
              "    <tr>\n",
              "      <th>0</th>\n",
              "      <td>Sad Puppy</td>\n",
              "      <td>Thinking of You</td>\n",
              "      <td>1rkIK8cog9QgBYmpT2XOdv</td>\n",
              "      <td>46</td>\n",
              "      <td>0.848</td>\n",
              "      <td>0.522</td>\n",
              "      <td>-4.180</td>\n",
              "      <td>0.0411</td>\n",
              "      <td>0.5000</td>\n",
              "      <td>0.000288</td>\n",
              "      <td>0.0786</td>\n",
              "      <td>0.797</td>\n",
              "      <td>94.970</td>\n",
              "      <td>spotify:track:1rkIK8cog9QgBYmpT2XOdv</td>\n",
              "      <td>154163</td>\n",
              "      <td>sad</td>\n",
              "    </tr>\n",
              "    <tr>\n",
              "      <th>1</th>\n",
              "      <td>Oscar Louis</td>\n",
              "      <td>The Rest</td>\n",
              "      <td>2SRx7uOuHLWrUuN2dyrZ41</td>\n",
              "      <td>31</td>\n",
              "      <td>0.697</td>\n",
              "      <td>0.400</td>\n",
              "      <td>-11.350</td>\n",
              "      <td>0.0316</td>\n",
              "      <td>0.5850</td>\n",
              "      <td>0.024200</td>\n",
              "      <td>0.1100</td>\n",
              "      <td>0.441</td>\n",
              "      <td>158.014</td>\n",
              "      <td>spotify:track:2SRx7uOuHLWrUuN2dyrZ41</td>\n",
              "      <td>140209</td>\n",
              "      <td>happy</td>\n",
              "    </tr>\n",
              "    <tr>\n",
              "      <th>2</th>\n",
              "      <td>Happy Moon</td>\n",
              "      <td>When I Met You</td>\n",
              "      <td>4xZ4ucmEqNuGLKsVJUo17T</td>\n",
              "      <td>32</td>\n",
              "      <td>0.551</td>\n",
              "      <td>0.410</td>\n",
              "      <td>-8.691</td>\n",
              "      <td>0.0378</td>\n",
              "      <td>0.1760</td>\n",
              "      <td>0.752000</td>\n",
              "      <td>0.0944</td>\n",
              "      <td>0.158</td>\n",
              "      <td>119.969</td>\n",
              "      <td>spotify:track:4xZ4ucmEqNuGLKsVJUo17T</td>\n",
              "      <td>87159</td>\n",
              "      <td>happy</td>\n",
              "    </tr>\n",
              "    <tr>\n",
              "      <th>3</th>\n",
              "      <td>Calm Baby</td>\n",
              "      <td>Row, Row, Row Your Boat</td>\n",
              "      <td>2quUTb4VsSMVCRQoQ2ITbb</td>\n",
              "      <td>15</td>\n",
              "      <td>0.164</td>\n",
              "      <td>0.208</td>\n",
              "      <td>-12.219</td>\n",
              "      <td>0.0368</td>\n",
              "      <td>0.8530</td>\n",
              "      <td>0.000603</td>\n",
              "      <td>0.1060</td>\n",
              "      <td>0.256</td>\n",
              "      <td>176.301</td>\n",
              "      <td>spotify:track:2quUTb4VsSMVCRQoQ2ITbb</td>\n",
              "      <td>68280</td>\n",
              "      <td>calm</td>\n",
              "    </tr>\n",
              "    <tr>\n",
              "      <th>4</th>\n",
              "      <td>Kasperli</td>\n",
              "      <td>De Pischima ufem Burehof - Teil 11</td>\n",
              "      <td>52mkFTivDBkwQ29aTKDvuI</td>\n",
              "      <td>16</td>\n",
              "      <td>0.701</td>\n",
              "      <td>0.456</td>\n",
              "      <td>-13.095</td>\n",
              "      <td>0.9530</td>\n",
              "      <td>0.6430</td>\n",
              "      <td>0.000000</td>\n",
              "      <td>0.3160</td>\n",
              "      <td>0.453</td>\n",
              "      <td>96.649</td>\n",
              "      <td>spotify:track:52mkFTivDBkwQ29aTKDvuI</td>\n",
              "      <td>106839</td>\n",
              "      <td>energetic</td>\n",
              "    </tr>\n",
              "    <tr>\n",
              "      <th>...</th>\n",
              "      <td>...</td>\n",
              "      <td>...</td>\n",
              "      <td>...</td>\n",
              "      <td>...</td>\n",
              "      <td>...</td>\n",
              "      <td>...</td>\n",
              "      <td>...</td>\n",
              "      <td>...</td>\n",
              "      <td>...</td>\n",
              "      <td>...</td>\n",
              "      <td>...</td>\n",
              "      <td>...</td>\n",
              "      <td>...</td>\n",
              "      <td>...</td>\n",
              "      <td>...</td>\n",
              "      <td>...</td>\n",
              "    </tr>\n",
              "    <tr>\n",
              "      <th>1165</th>\n",
              "      <td>Simpson</td>\n",
              "      <td>I Miss My Dawgs</td>\n",
              "      <td>1nkWeF77qk4RkLpn4omPWL</td>\n",
              "      <td>50</td>\n",
              "      <td>0.779</td>\n",
              "      <td>0.309</td>\n",
              "      <td>-11.634</td>\n",
              "      <td>0.0662</td>\n",
              "      <td>0.0951</td>\n",
              "      <td>0.004500</td>\n",
              "      <td>0.3300</td>\n",
              "      <td>0.740</td>\n",
              "      <td>75.007</td>\n",
              "      <td>spotify:track:1nkWeF77qk4RkLpn4omPWL</td>\n",
              "      <td>142472</td>\n",
              "      <td>happy</td>\n",
              "    </tr>\n",
              "    <tr>\n",
              "      <th>1166</th>\n",
              "      <td>Fucking Beautiful</td>\n",
              "      <td>Wet Dream Baby</td>\n",
              "      <td>4XW3aBxh0Gf0KE49hNc733</td>\n",
              "      <td>1</td>\n",
              "      <td>0.326</td>\n",
              "      <td>0.950</td>\n",
              "      <td>-3.465</td>\n",
              "      <td>0.2290</td>\n",
              "      <td>0.0725</td>\n",
              "      <td>0.000003</td>\n",
              "      <td>0.0797</td>\n",
              "      <td>0.719</td>\n",
              "      <td>169.762</td>\n",
              "      <td>spotify:track:4XW3aBxh0Gf0KE49hNc733</td>\n",
              "      <td>156000</td>\n",
              "      <td>energetic</td>\n",
              "    </tr>\n",
              "    <tr>\n",
              "      <th>1167</th>\n",
              "      <td>Kasperli</td>\n",
              "      <td>De Seegeischt im Führwehrweiher - Teil 2</td>\n",
              "      <td>4AnYrKR010Rdc8oqloVdHK</td>\n",
              "      <td>11</td>\n",
              "      <td>0.746</td>\n",
              "      <td>0.253</td>\n",
              "      <td>-16.731</td>\n",
              "      <td>0.9440</td>\n",
              "      <td>0.6950</td>\n",
              "      <td>0.000000</td>\n",
              "      <td>0.3860</td>\n",
              "      <td>0.786</td>\n",
              "      <td>95.313</td>\n",
              "      <td>spotify:track:4AnYrKR010Rdc8oqloVdHK</td>\n",
              "      <td>94680</td>\n",
              "      <td>energetic</td>\n",
              "    </tr>\n",
              "    <tr>\n",
              "      <th>1168</th>\n",
              "      <td>Badanamu</td>\n",
              "      <td>Po Pow Pay</td>\n",
              "      <td>3KdcrLnjSfnE0zYOe0ekRJ</td>\n",
              "      <td>35</td>\n",
              "      <td>0.974</td>\n",
              "      <td>0.769</td>\n",
              "      <td>-7.622</td>\n",
              "      <td>0.0583</td>\n",
              "      <td>0.0631</td>\n",
              "      <td>0.844000</td>\n",
              "      <td>0.2760</td>\n",
              "      <td>0.782</td>\n",
              "      <td>128.004</td>\n",
              "      <td>spotify:track:3KdcrLnjSfnE0zYOe0ekRJ</td>\n",
              "      <td>121875</td>\n",
              "      <td>calm</td>\n",
              "    </tr>\n",
              "    <tr>\n",
              "      <th>1169</th>\n",
              "      <td>Kasperli</td>\n",
              "      <td>De Pischima ufem Burehof - Teil 7</td>\n",
              "      <td>2PRl5gNcMsnsxpQ8WwsrJ2</td>\n",
              "      <td>16</td>\n",
              "      <td>0.751</td>\n",
              "      <td>0.264</td>\n",
              "      <td>-15.120</td>\n",
              "      <td>0.9570</td>\n",
              "      <td>0.8480</td>\n",
              "      <td>0.000000</td>\n",
              "      <td>0.3140</td>\n",
              "      <td>0.424</td>\n",
              "      <td>45.625</td>\n",
              "      <td>spotify:track:2PRl5gNcMsnsxpQ8WwsrJ2</td>\n",
              "      <td>99580</td>\n",
              "      <td>energetic</td>\n",
              "    </tr>\n",
              "  </tbody>\n",
              "</table>\n",
              "<p>1170 rows × 16 columns</p>\n",
              "</div>"
            ],
            "text/plain": [
              "            artist_name  ...       mood\n",
              "0             Sad Puppy  ...        sad\n",
              "1           Oscar Louis  ...      happy\n",
              "2            Happy Moon  ...      happy\n",
              "3             Calm Baby  ...       calm\n",
              "4              Kasperli  ...  energetic\n",
              "...                 ...  ...        ...\n",
              "1165            Simpson  ...      happy\n",
              "1166  Fucking Beautiful  ...  energetic\n",
              "1167           Kasperli  ...  energetic\n",
              "1168           Badanamu  ...       calm\n",
              "1169           Kasperli  ...  energetic\n",
              "\n",
              "[1170 rows x 16 columns]"
            ]
          },
          "metadata": {
            "tags": []
          },
          "execution_count": 91
        }
      ]
    },
    {
      "cell_type": "code",
      "metadata": {
        "id": "We9H6e_RFOPl"
      },
      "source": [
        "#Libraries to pre-process the variables\n",
        "from sklearn.preprocessing import LabelEncoder,MinMaxScaler\n",
        "from sklearn.model_selection import train_test_split"
      ],
      "execution_count": 92,
      "outputs": []
    },
    {
      "cell_type": "code",
      "metadata": {
        "id": "053fJtAVFUH1"
      },
      "source": [
        "col_features = df.columns[4:13]\n",
        "features = df[col_features]\n",
        "mood = df['mood']\n",
        "features = MinMaxScaler().fit_transform(features)\n",
        "#Encode the labels (targets)\n",
        "encoder = LabelEncoder()\n",
        "encoder.fit(mood)\n",
        "encoded_y = encoder.transform(mood)\n",
        "#Split train and test data with a test size of 20%\n",
        "features_train,features_test,mood_train,mood_test = train_test_split(features,encoded_y,test_size=0.2,random_state=15)"
      ],
      "execution_count": 114,
      "outputs": []
    },
    {
      "cell_type": "code",
      "metadata": {
        "colab": {
          "base_uri": "https://localhost:8080/"
        },
        "id": "Lz-zyQ5fK0ii",
        "outputId": "47b1f7aa-d4e4-4818-fe10-f4d9aa7d3fb6"
      },
      "source": [
        "features.shape\n"
      ],
      "execution_count": 115,
      "outputs": [
        {
          "output_type": "execute_result",
          "data": {
            "text/plain": [
              "(1170, 9)"
            ]
          },
          "metadata": {
            "tags": []
          },
          "execution_count": 115
        }
      ]
    },
    {
      "cell_type": "code",
      "metadata": {
        "colab": {
          "base_uri": "https://localhost:8080/"
        },
        "id": "o7fg2ca8yJ8Q",
        "outputId": "2e1aea33-31de-4584-c63f-c627da09a384"
      },
      "source": [
        "len(features_train)"
      ],
      "execution_count": 116,
      "outputs": [
        {
          "output_type": "execute_result",
          "data": {
            "text/plain": [
              "936"
            ]
          },
          "metadata": {
            "tags": []
          },
          "execution_count": 116
        }
      ]
    },
    {
      "cell_type": "code",
      "metadata": {
        "colab": {
          "base_uri": "https://localhost:8080/"
        },
        "id": "KWOyEh9ByNX2",
        "outputId": "fc298518-6c77-4958-8c13-18701bdd9a8b"
      },
      "source": [
        "len(features_test)"
      ],
      "execution_count": 117,
      "outputs": [
        {
          "output_type": "execute_result",
          "data": {
            "text/plain": [
              "234"
            ]
          },
          "metadata": {
            "tags": []
          },
          "execution_count": 117
        }
      ]
    },
    {
      "cell_type": "code",
      "metadata": {
        "colab": {
          "base_uri": "https://localhost:8080/"
        },
        "id": "4cfG6fwWISjb",
        "outputId": "a71ad83d-64e5-4dc4-fd68-c6208d8ddd4f"
      },
      "source": [
        "len(mood_train)"
      ],
      "execution_count": 118,
      "outputs": [
        {
          "output_type": "execute_result",
          "data": {
            "text/plain": [
              "936"
            ]
          },
          "metadata": {
            "tags": []
          },
          "execution_count": 118
        }
      ]
    },
    {
      "cell_type": "code",
      "metadata": {
        "colab": {
          "base_uri": "https://localhost:8080/"
        },
        "id": "_2EUx9hIIVNC",
        "outputId": "36235b13-7a1d-41bf-97b4-36cac917ace1"
      },
      "source": [
        "len(mood_test)"
      ],
      "execution_count": 119,
      "outputs": [
        {
          "output_type": "execute_result",
          "data": {
            "text/plain": [
              "234"
            ]
          },
          "metadata": {
            "tags": []
          },
          "execution_count": 119
        }
      ]
    }
  ]
}